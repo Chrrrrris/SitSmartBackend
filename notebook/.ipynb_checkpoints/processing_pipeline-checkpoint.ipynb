{
 "cells": [
  {
   "cell_type": "code",
   "execution_count": null,
   "metadata": {},
   "outputs": [],
   "source": [
    "import numpy as np\n",
    "import cv2\n",
    "import os\n",
    "from tqdm import tqdm"
   ]
  },
  {
   "cell_type": "code",
   "execution_count": null,
   "metadata": {},
   "outputs": [],
   "source": [
    "video_path = ['Normal posture', 'Lean Forward', 'Backwards']\n",
    "output_dir = ['Normal posture/frames', 'Lean Forward/frames', 'Backwards/frames']"
   ]
  },
  {
   "cell_type": "code",
   "execution_count": null,
   "metadata": {},
   "outputs": [],
   "source": [
    "for i in range(len(output_dir)):\n",
    "    os.makedirs(output_dir[i], exist_ok=True)\n"
   ]
  },
  {
   "cell_type": "code",
   "execution_count": null,
   "metadata": {},
   "outputs": [],
   "source": [
    "frame_filename"
   ]
  },
  {
   "cell_type": "code",
   "execution_count": null,
   "metadata": {},
   "outputs": [],
   "source": [
    "for i in tqdm(np.arange(len(video_path))):\n",
    "    frame_number = 0\n",
    "    for filename in os.listdir(video_path[i]):\n",
    "        if filename.endswith(\".mov\") or filename.endswith(\".mp4\"):\n",
    "            print(video_path[i])\n",
    "            print(frame_number)\n",
    "            cap = cv2.VideoCapture(os.path.join(video_path[i], filename))\n",
    "            while True:\n",
    "                # Read the next frame from the video\n",
    "                ret, frame = cap.read()\n",
    "\n",
    "                # Break the loop if no frame is captured (end of video)\n",
    "                if not ret:\n",
    "                    break\n",
    "                    \n",
    "                frame_filename = os.path.join(output_dir[i], f\"frame_{frame_number:05d}.jpg\")\n",
    "                cv2.imwrite(frame_filename, frame)\n",
    "                frame_number += 1\n",
    "            cap.release()\n",
    "\n",
    "\n"
   ]
  },
  {
   "cell_type": "code",
   "execution_count": null,
   "metadata": {},
   "outputs": [],
   "source": [
    "os.listdir(video_path[i])[4]"
   ]
  },
  {
   "cell_type": "code",
   "execution_count": null,
   "metadata": {},
   "outputs": [],
   "source": [
    "os.listdir(video_path[1])"
   ]
  },
  {
   "cell_type": "code",
   "execution_count": null,
   "metadata": {},
   "outputs": [],
   "source": [
    "import os\n",
    "data_path = \"../../AI System Data/Lean Forward/frames\"\n",
    "image_files = [f for f in os.listdir(data_path) if os.path.isfile(os.path.join(data_path, f))]\n",
    "\n",
    "# Function to extract the numeric part from the filename\n",
    "def extract_number(filename):\n",
    "    # Extracts digits from a filename, assuming format 'frame_XXXXX.jpg'\n",
    "    prefix_len = len('frame_')\n",
    "    suffix_len = len('.jpg')\n",
    "    return int(filename[prefix_len:-suffix_len])\n",
    "\n",
    "# Find indices for frames within a certain range\n",
    "start_frame = 0\n",
    "end_frame = 1269\n",
    "indices = []\n",
    "\n",
    "for index, filename in enumerate(image_files):\n",
    "    if filename.startswith('frame_') and filename.endswith('.jpg'):\n",
    "        frame_number = extract_number(filename)\n",
    "        if start_frame <= frame_number <= end_frame:\n",
    "            indices.append(index)\n"
   ]
  },
  {
   "cell_type": "code",
   "execution_count": null,
   "metadata": {},
   "outputs": [],
   "source": [
    "indices"
   ]
  },
  {
   "cell_type": "code",
   "execution_count": null,
   "metadata": {},
   "outputs": [],
   "source": [
    "image_files"
   ]
  },
  {
   "cell_type": "code",
   "execution_count": null,
   "metadata": {},
   "outputs": [],
   "source": []
  }
 ],
 "metadata": {
  "kernelspec": {
   "display_name": "Python 3",
   "language": "python",
   "name": "python3"
  },
  "language_info": {
   "codemirror_mode": {
    "name": "ipython",
    "version": 3
   },
   "file_extension": ".py",
   "mimetype": "text/x-python",
   "name": "python",
   "nbconvert_exporter": "python",
   "pygments_lexer": "ipython3",
   "version": "3.8.5"
  }
 },
 "nbformat": 4,
 "nbformat_minor": 4
}
