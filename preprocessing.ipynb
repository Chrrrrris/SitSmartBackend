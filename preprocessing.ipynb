{
 "cells": [
  {
   "cell_type": "code",
   "execution_count": 4,
   "metadata": {},
   "outputs": [],
   "source": [
    "from pose_estimation import initialize_model, inference\n",
    "import os\n",
    "from PIL import Image\n",
    "import numpy as np\n",
    "import matplotlib.pyplot as plt\n",
    "from tqdm import tqdm\n",
    "\n",
    "def readImages(interval, localStoragePath, userId):\n",
    "  pass\n",
    "\n",
    "def postureDetect(interval=60):\n",
    "  \"\"\"\n",
    "    Posture detection pipeline. This function reads images from the local storage, performs inference on them, and sends the results to the server.\n",
    "\n",
    "    Args:\n",
    "    - interval (int): Interval in seconds to read images from the local storage.\n",
    "\n",
    "    \"\"\"\n",
    "  initialize_model()\n",
    "  results = inference(images)\n",
    "  return results\n",
    "\n"
   ]
  },
  {
   "cell_type": "code",
   "execution_count": 36,
   "metadata": {
    "scrolled": true
   },
   "outputs": [
    {
     "name": "stdout",
     "output_type": "stream",
     "text": [
      "\n",
      "0: 384x640 1 person, 1801.0ms\n",
      "Speed: 5.2ms preprocess, 1801.0ms inference, 2.0ms postprocess per image at shape (1, 3, 384, 640)\n",
      "\n",
      "0: 448x640 1 person, 1741.6ms\n",
      "Speed: 13.8ms preprocess, 1741.6ms inference, 2.0ms postprocess per image at shape (1, 3, 448, 640)\n",
      "\n",
      "0: 448x640 1 person, 1382.9ms\n",
      "Speed: 7.0ms preprocess, 1382.9ms inference, 1.7ms postprocess per image at shape (1, 3, 448, 640)\n",
      "\n",
      "0: 384x640 1 person, 1391.1ms\n",
      "Speed: 7.2ms preprocess, 1391.1ms inference, 1.9ms postprocess per image at shape (1, 3, 384, 640)\n",
      "\n",
      "0: 448x640 1 person, 1565.3ms\n",
      "Speed: 11.9ms preprocess, 1565.3ms inference, 2.2ms postprocess per image at shape (1, 3, 448, 640)\n",
      "\n",
      "0: 384x640 1 person, 1408.1ms\n",
      "Speed: 7.5ms preprocess, 1408.1ms inference, 3.6ms postprocess per image at shape (1, 3, 384, 640)\n",
      "\n",
      "0: 384x640 1 person, 2341.8ms\n",
      "Speed: 12.4ms preprocess, 2341.8ms inference, 2.6ms postprocess per image at shape (1, 3, 384, 640)\n",
      "\n",
      "0: 448x640 1 person, 3376.3ms\n",
      "Speed: 14.4ms preprocess, 3376.3ms inference, 3.4ms postprocess per image at shape (1, 3, 448, 640)\n",
      "\n",
      "0: 448x640 1 person, 2736.3ms\n",
      "Speed: 13.8ms preprocess, 2736.3ms inference, 2.3ms postprocess per image at shape (1, 3, 448, 640)\n",
      "\n",
      "0: 448x640 1 person, 2033.5ms\n",
      "Speed: 12.7ms preprocess, 2033.5ms inference, 2.3ms postprocess per image at shape (1, 3, 448, 640)\n",
      "\n",
      "0: 384x640 1 person, 1451.4ms\n",
      "Speed: 8.1ms preprocess, 1451.4ms inference, 2.2ms postprocess per image at shape (1, 3, 384, 640)\n",
      "\n",
      "0: 448x640 1 person, 1868.4ms\n",
      "Speed: 8.0ms preprocess, 1868.4ms inference, 1.3ms postprocess per image at shape (1, 3, 448, 640)\n",
      "\n",
      "0: 384x640 1 person, 1343.7ms\n",
      "Speed: 7.9ms preprocess, 1343.7ms inference, 2.3ms postprocess per image at shape (1, 3, 384, 640)\n",
      "\n",
      "0: 384x640 1 person, 1442.1ms\n",
      "Speed: 6.7ms preprocess, 1442.1ms inference, 2.5ms postprocess per image at shape (1, 3, 384, 640)\n",
      "\n",
      "0: 448x640 1 person, 1767.0ms\n",
      "Speed: 7.6ms preprocess, 1767.0ms inference, 2.1ms postprocess per image at shape (1, 3, 448, 640)\n",
      "\n",
      "0: 384x640 1 person, 1811.7ms\n",
      "Speed: 8.0ms preprocess, 1811.7ms inference, 3.3ms postprocess per image at shape (1, 3, 384, 640)\n",
      "\n",
      "0: 448x640 1 person, 1736.1ms\n",
      "Speed: 20.7ms preprocess, 1736.1ms inference, 2.3ms postprocess per image at shape (1, 3, 448, 640)\n",
      "\n",
      "0: 448x640 1 person, 1952.4ms\n",
      "Speed: 8.0ms preprocess, 1952.4ms inference, 7.2ms postprocess per image at shape (1, 3, 448, 640)\n",
      "\n",
      "0: 384x640 1 person, 1534.3ms\n",
      "Speed: 9.9ms preprocess, 1534.3ms inference, 1.4ms postprocess per image at shape (1, 3, 384, 640)\n",
      "\n",
      "0: 384x640 1 person, 1445.9ms\n",
      "Speed: 13.0ms preprocess, 1445.9ms inference, 2.2ms postprocess per image at shape (1, 3, 384, 640)\n",
      "Image 0: Keypoints - [[     814.66      609.36]\n",
      " [     911.09       505.2]\n",
      " [     731.85      496.37]\n",
      " [     1022.3      550.91]\n",
      " [     622.28      531.89]\n",
      " [     1244.8      981.68]\n",
      " [     394.35      960.74]\n",
      " [          0           0]\n",
      " [          0           0]\n",
      " [          0           0]\n",
      " [          0           0]\n",
      " [          0           0]\n",
      " [          0           0]\n",
      " [          0           0]\n",
      " [          0           0]\n",
      " [          0           0]\n",
      " [          0           0]]\n",
      "Image 1: Keypoints - [[     485.91      329.97]\n",
      " [     585.64      224.48]\n",
      " [     403.68      226.06]\n",
      " [     711.13      279.62]\n",
      " [     307.68      279.09]\n",
      " [     877.85      632.84]\n",
      " [     148.32       661.8]\n",
      " [          0           0]\n",
      " [          0           0]\n",
      " [          0           0]\n",
      " [          0           0]\n",
      " [          0           0]\n",
      " [          0           0]\n",
      " [          0           0]\n",
      " [          0           0]\n",
      " [          0           0]\n",
      " [          0           0]]\n",
      "Image 2: Keypoints - [[     678.58      364.08]\n",
      " [     750.01      285.94]\n",
      " [     607.26      292.01]\n",
      " [     853.17      317.13]\n",
      " [     523.48      329.93]\n",
      " [     1048.9       673.9]\n",
      " [     353.13       677.6]\n",
      " [          0           0]\n",
      " [          0           0]\n",
      " [          0           0]\n",
      " [          0           0]\n",
      " [          0           0]\n",
      " [          0           0]\n",
      " [          0           0]\n",
      " [          0           0]\n",
      " [          0           0]\n",
      " [          0           0]]\n",
      "Image 3: Keypoints - [[     817.11      594.27]\n",
      " [     910.04      490.27]\n",
      " [     733.34      485.65]\n",
      " [     1020.5      538.62]\n",
      " [     627.06       527.6]\n",
      " [     1254.5      991.58]\n",
      " [     401.91      959.23]\n",
      " [          0           0]\n",
      " [          0           0]\n",
      " [          0           0]\n",
      " [          0           0]\n",
      " [          0           0]\n",
      " [          0           0]\n",
      " [          0           0]\n",
      " [          0           0]\n",
      " [          0           0]\n",
      " [          0           0]]\n",
      "Image 4: Keypoints - [[     678.01      365.56]\n",
      " [     749.27      285.47]\n",
      " [     604.23      294.41]\n",
      " [     854.47      316.99]\n",
      " [     519.76      336.09]\n",
      " [     1050.7      661.64]\n",
      " [     366.38      672.94]\n",
      " [          0           0]\n",
      " [          0           0]\n",
      " [          0           0]\n",
      " [          0           0]\n",
      " [          0           0]\n",
      " [          0           0]\n",
      " [          0           0]\n",
      " [          0           0]\n",
      " [          0           0]\n",
      " [          0           0]]\n",
      "\n",
      "0: 448x640 1 person, 1798.9ms\n",
      "Speed: 5.7ms preprocess, 1798.9ms inference, 2.1ms postprocess per image at shape (1, 3, 448, 640)\n",
      "\n",
      "0: 448x640 1 person, 1699.0ms\n",
      "Speed: 9.4ms preprocess, 1699.0ms inference, 2.2ms postprocess per image at shape (1, 3, 448, 640)\n",
      "\n",
      "0: 448x640 1 person, 1792.2ms\n",
      "Speed: 6.0ms preprocess, 1792.2ms inference, 2.1ms postprocess per image at shape (1, 3, 448, 640)\n",
      "\n",
      "0: 448x640 1 person, 1488.0ms\n",
      "Speed: 6.5ms preprocess, 1488.0ms inference, 3.3ms postprocess per image at shape (1, 3, 448, 640)\n",
      "\n",
      "0: 384x640 1 person, 1352.1ms\n",
      "Speed: 4.5ms preprocess, 1352.1ms inference, 1.5ms postprocess per image at shape (1, 3, 384, 640)\n",
      "\n",
      "0: 384x640 1 person, 1504.0ms\n",
      "Speed: 5.9ms preprocess, 1504.0ms inference, 2.0ms postprocess per image at shape (1, 3, 384, 640)\n",
      "\n",
      "0: 384x640 1 person, 1458.6ms\n",
      "Speed: 6.1ms preprocess, 1458.6ms inference, 1.5ms postprocess per image at shape (1, 3, 384, 640)\n",
      "\n",
      "0: 448x640 1 person, 1610.5ms\n",
      "Speed: 10.3ms preprocess, 1610.5ms inference, 1.9ms postprocess per image at shape (1, 3, 448, 640)\n",
      "\n",
      "0: 448x640 1 person, 1702.4ms\n",
      "Speed: 7.1ms preprocess, 1702.4ms inference, 3.2ms postprocess per image at shape (1, 3, 448, 640)\n",
      "\n",
      "0: 384x640 1 person, 1617.0ms\n",
      "Speed: 14.8ms preprocess, 1617.0ms inference, 1.7ms postprocess per image at shape (1, 3, 384, 640)\n",
      "\n",
      "0: 448x640 1 person, 1966.6ms\n",
      "Speed: 8.9ms preprocess, 1966.6ms inference, 2.1ms postprocess per image at shape (1, 3, 448, 640)\n",
      "\n",
      "0: 448x640 1 person, 1931.7ms\n",
      "Speed: 8.3ms preprocess, 1931.7ms inference, 2.4ms postprocess per image at shape (1, 3, 448, 640)\n",
      "\n",
      "0: 448x640 1 person, 1698.5ms\n",
      "Speed: 10.0ms preprocess, 1698.5ms inference, 1.9ms postprocess per image at shape (1, 3, 448, 640)\n",
      "\n",
      "0: 384x640 1 person, 1433.9ms\n",
      "Speed: 8.3ms preprocess, 1433.9ms inference, 2.3ms postprocess per image at shape (1, 3, 384, 640)\n",
      "\n",
      "0: 384x640 1 person, 1451.3ms\n",
      "Speed: 9.5ms preprocess, 1451.3ms inference, 3.8ms postprocess per image at shape (1, 3, 384, 640)\n",
      "\n",
      "0: 384x640 1 person, 1519.7ms\n",
      "Speed: 8.2ms preprocess, 1519.7ms inference, 1.7ms postprocess per image at shape (1, 3, 384, 640)\n",
      "\n",
      "0: 448x640 1 person, 1906.5ms\n",
      "Speed: 11.9ms preprocess, 1906.5ms inference, 2.4ms postprocess per image at shape (1, 3, 448, 640)\n",
      "\n",
      "0: 448x640 1 person, 1650.9ms\n",
      "Speed: 8.6ms preprocess, 1650.9ms inference, 2.7ms postprocess per image at shape (1, 3, 448, 640)\n",
      "\n",
      "0: 384x640 1 person, 1393.6ms\n",
      "Speed: 9.6ms preprocess, 1393.6ms inference, 2.5ms postprocess per image at shape (1, 3, 384, 640)\n",
      "\n",
      "0: 384x640 1 person, 1514.7ms\n",
      "Speed: 5.8ms preprocess, 1514.7ms inference, 2.0ms postprocess per image at shape (1, 3, 384, 640)\n",
      "Image 0: Keypoints - [[     814.66      609.36]\n",
      " [     911.09       505.2]\n",
      " [     731.85      496.37]\n",
      " [     1022.3      550.91]\n",
      " [     622.28      531.89]\n",
      " [     1244.8      981.68]\n",
      " [     394.35      960.74]\n",
      " [          0           0]\n",
      " [          0           0]\n",
      " [          0           0]\n",
      " [          0           0]\n",
      " [          0           0]\n",
      " [          0           0]\n",
      " [          0           0]\n",
      " [          0           0]\n",
      " [          0           0]\n",
      " [          0           0]]\n",
      "Image 1: Keypoints - [[     485.91      329.97]\n",
      " [     585.64      224.48]\n",
      " [     403.68      226.06]\n",
      " [     711.13      279.62]\n",
      " [     307.68      279.09]\n",
      " [     877.85      632.84]\n",
      " [     148.32       661.8]\n",
      " [          0           0]\n",
      " [          0           0]\n",
      " [          0           0]\n",
      " [          0           0]\n",
      " [          0           0]\n",
      " [          0           0]\n",
      " [          0           0]\n",
      " [          0           0]\n",
      " [          0           0]\n",
      " [          0           0]]\n",
      "Image 2: Keypoints - [[     678.58      364.08]\n",
      " [     750.01      285.94]\n",
      " [     607.26      292.01]\n",
      " [     853.17      317.13]\n",
      " [     523.48      329.93]\n",
      " [     1048.9       673.9]\n",
      " [     353.13       677.6]\n",
      " [          0           0]\n",
      " [          0           0]\n",
      " [          0           0]\n",
      " [          0           0]\n",
      " [          0           0]\n",
      " [          0           0]\n",
      " [          0           0]\n",
      " [          0           0]\n",
      " [          0           0]\n",
      " [          0           0]]\n",
      "Image 3: Keypoints - [[     817.11      594.27]\n",
      " [     910.04      490.27]\n",
      " [     733.34      485.65]\n",
      " [     1020.5      538.62]\n",
      " [     627.06       527.6]\n",
      " [     1254.5      991.58]\n",
      " [     401.91      959.23]\n",
      " [          0           0]\n",
      " [          0           0]\n",
      " [          0           0]\n",
      " [          0           0]\n",
      " [          0           0]\n",
      " [          0           0]\n",
      " [          0           0]\n",
      " [          0           0]\n",
      " [          0           0]\n",
      " [          0           0]]\n",
      "Image 4: Keypoints - [[     678.01      365.56]\n",
      " [     749.27      285.47]\n",
      " [     604.23      294.41]\n",
      " [     854.47      316.99]\n",
      " [     519.76      336.09]\n",
      " [     1050.7      661.64]\n",
      " [     366.38      672.94]\n",
      " [          0           0]\n",
      " [          0           0]\n",
      " [          0           0]\n",
      " [          0           0]\n",
      " [          0           0]\n",
      " [          0           0]\n",
      " [          0           0]\n",
      " [          0           0]\n",
      " [          0           0]\n",
      " [          0           0]]\n"
     ]
    },
    {
     "name": "stdout",
     "output_type": "stream",
     "text": [
      "\n",
      "0: 384x640 1 person, 1376.6ms\n",
      "Speed: 5.3ms preprocess, 1376.6ms inference, 1.7ms postprocess per image at shape (1, 3, 384, 640)\n",
      "\n",
      "0: 448x640 1 person, 1698.1ms\n",
      "Speed: 7.1ms preprocess, 1698.1ms inference, 2.0ms postprocess per image at shape (1, 3, 448, 640)\n",
      "\n",
      "0: 448x640 1 person, 1500.8ms\n",
      "Speed: 8.1ms preprocess, 1500.8ms inference, 2.4ms postprocess per image at shape (1, 3, 448, 640)\n",
      "\n",
      "0: 448x640 1 person, 1505.6ms\n",
      "Speed: 11.4ms preprocess, 1505.6ms inference, 1.8ms postprocess per image at shape (1, 3, 448, 640)\n",
      "\n",
      "0: 384x640 1 person, 1252.0ms\n",
      "Speed: 6.9ms preprocess, 1252.0ms inference, 2.3ms postprocess per image at shape (1, 3, 384, 640)\n",
      "\n",
      "0: 448x640 1 person, 1434.4ms\n",
      "Speed: 9.8ms preprocess, 1434.4ms inference, 1.4ms postprocess per image at shape (1, 3, 448, 640)\n",
      "\n",
      "0: 448x640 1 person, 1401.0ms\n",
      "Speed: 9.2ms preprocess, 1401.0ms inference, 2.5ms postprocess per image at shape (1, 3, 448, 640)\n",
      "\n",
      "0: 448x640 1 person, 2354.0ms\n",
      "Speed: 17.9ms preprocess, 2354.0ms inference, 1.9ms postprocess per image at shape (1, 3, 448, 640)\n",
      "\n",
      "0: 448x640 1 person, 2108.5ms\n",
      "Speed: 5.7ms preprocess, 2108.5ms inference, 3.1ms postprocess per image at shape (1, 3, 448, 640)\n",
      "\n",
      "0: 448x640 1 person, 2297.9ms\n",
      "Speed: 8.7ms preprocess, 2297.9ms inference, 2.1ms postprocess per image at shape (1, 3, 448, 640)\n",
      "\n",
      "0: 448x640 1 person, 2368.5ms\n",
      "Speed: 8.9ms preprocess, 2368.5ms inference, 2.1ms postprocess per image at shape (1, 3, 448, 640)\n",
      "\n",
      "0: 448x640 1 person, 1736.3ms\n",
      "Speed: 7.6ms preprocess, 1736.3ms inference, 1.9ms postprocess per image at shape (1, 3, 448, 640)\n",
      "\n",
      "0: 384x640 1 person, 1340.8ms\n",
      "Speed: 7.2ms preprocess, 1340.8ms inference, 1.9ms postprocess per image at shape (1, 3, 384, 640)\n",
      "\n",
      "0: 448x640 1 person, 3113.6ms\n",
      "Speed: 7.8ms preprocess, 3113.6ms inference, 2.2ms postprocess per image at shape (1, 3, 448, 640)\n",
      "\n",
      "0: 448x640 1 person, 3137.2ms\n",
      "Speed: 6.1ms preprocess, 3137.2ms inference, 3.9ms postprocess per image at shape (1, 3, 448, 640)\n",
      "\n",
      "0: 448x640 1 person, 2876.1ms\n",
      "Speed: 14.8ms preprocess, 2876.1ms inference, 2.5ms postprocess per image at shape (1, 3, 448, 640)\n",
      "\n",
      "0: 448x640 1 person, 1637.1ms\n",
      "Speed: 11.6ms preprocess, 1637.1ms inference, 2.1ms postprocess per image at shape (1, 3, 448, 640)\n",
      "\n",
      "0: 448x640 1 person, 1728.4ms\n",
      "Speed: 8.3ms preprocess, 1728.4ms inference, 1.9ms postprocess per image at shape (1, 3, 448, 640)\n",
      "\n",
      "0: 384x640 1 person, 1533.9ms\n",
      "Speed: 13.0ms preprocess, 1533.9ms inference, 1.7ms postprocess per image at shape (1, 3, 384, 640)\n",
      "\n",
      "0: 448x640 1 person, 1710.7ms\n",
      "Speed: 9.2ms preprocess, 1710.7ms inference, 2.3ms postprocess per image at shape (1, 3, 448, 640)\n",
      "Image 0: Keypoints - [[     814.66      609.36]\n",
      " [     911.09       505.2]\n",
      " [     731.85      496.37]\n",
      " [     1022.3      550.91]\n",
      " [     622.28      531.89]\n",
      " [     1244.8      981.68]\n",
      " [     394.35      960.74]\n",
      " [          0           0]\n",
      " [          0           0]\n",
      " [          0           0]\n",
      " [          0           0]\n",
      " [          0           0]\n",
      " [          0           0]\n",
      " [          0           0]\n",
      " [          0           0]\n",
      " [          0           0]\n",
      " [          0           0]]\n",
      "Image 1: Keypoints - [[     485.91      329.97]\n",
      " [     585.64      224.48]\n",
      " [     403.68      226.06]\n",
      " [     711.13      279.62]\n",
      " [     307.68      279.09]\n",
      " [     877.85      632.84]\n",
      " [     148.32       661.8]\n",
      " [          0           0]\n",
      " [          0           0]\n",
      " [          0           0]\n",
      " [          0           0]\n",
      " [          0           0]\n",
      " [          0           0]\n",
      " [          0           0]\n",
      " [          0           0]\n",
      " [          0           0]\n",
      " [          0           0]]\n",
      "Image 2: Keypoints - [[     678.58      364.08]\n",
      " [     750.01      285.94]\n",
      " [     607.26      292.01]\n",
      " [     853.17      317.13]\n",
      " [     523.48      329.93]\n",
      " [     1048.9       673.9]\n",
      " [     353.13       677.6]\n",
      " [          0           0]\n",
      " [          0           0]\n",
      " [          0           0]\n",
      " [          0           0]\n",
      " [          0           0]\n",
      " [          0           0]\n",
      " [          0           0]\n",
      " [          0           0]\n",
      " [          0           0]\n",
      " [          0           0]]\n",
      "Image 3: Keypoints - [[     817.11      594.27]\n",
      " [     910.04      490.27]\n",
      " [     733.34      485.65]\n",
      " [     1020.5      538.62]\n",
      " [     627.06       527.6]\n",
      " [     1254.5      991.58]\n",
      " [     401.91      959.23]\n",
      " [          0           0]\n",
      " [          0           0]\n",
      " [          0           0]\n",
      " [          0           0]\n",
      " [          0           0]\n",
      " [          0           0]\n",
      " [          0           0]\n",
      " [          0           0]\n",
      " [          0           0]\n",
      " [          0           0]]\n",
      "Image 4: Keypoints - [[     678.01      365.56]\n",
      " [     749.27      285.47]\n",
      " [     604.23      294.41]\n",
      " [     854.47      316.99]\n",
      " [     519.76      336.09]\n",
      " [     1050.7      661.64]\n",
      " [     366.38      672.94]\n",
      " [          0           0]\n",
      " [          0           0]\n",
      " [          0           0]\n",
      " [          0           0]\n",
      " [          0           0]\n",
      " [          0           0]\n",
      " [          0           0]\n",
      " [          0           0]\n",
      " [          0           0]\n",
      " [          0           0]]\n",
      "\n",
      "0: 448x640 1 person, 1643.5ms\n",
      "Speed: 5.2ms preprocess, 1643.5ms inference, 1.7ms postprocess per image at shape (1, 3, 448, 640)\n",
      "\n",
      "0: 448x640 1 person, 1611.0ms\n",
      "Speed: 8.5ms preprocess, 1611.0ms inference, 1.8ms postprocess per image at shape (1, 3, 448, 640)\n",
      "\n",
      "0: 384x640 1 person, 1469.1ms\n",
      "Speed: 13.2ms preprocess, 1469.1ms inference, 2.0ms postprocess per image at shape (1, 3, 384, 640)\n",
      "\n",
      "0: 448x640 1 person, 1636.7ms\n",
      "Speed: 9.6ms preprocess, 1636.7ms inference, 1.5ms postprocess per image at shape (1, 3, 448, 640)\n",
      "\n",
      "0: 384x640 1 person, 1412.0ms\n",
      "Speed: 7.9ms preprocess, 1412.0ms inference, 1.8ms postprocess per image at shape (1, 3, 384, 640)\n",
      "\n",
      "0: 448x640 1 person, 1450.0ms\n",
      "Speed: 6.3ms preprocess, 1450.0ms inference, 1.6ms postprocess per image at shape (1, 3, 448, 640)\n",
      "\n",
      "0: 384x640 1 person, 1280.3ms\n",
      "Speed: 6.9ms preprocess, 1280.3ms inference, 1.7ms postprocess per image at shape (1, 3, 384, 640)\n",
      "\n",
      "0: 448x640 1 person, 1556.9ms\n",
      "Speed: 9.3ms preprocess, 1556.9ms inference, 1.7ms postprocess per image at shape (1, 3, 448, 640)\n",
      "\n",
      "0: 448x640 1 person, 1389.9ms\n",
      "Speed: 6.4ms preprocess, 1389.9ms inference, 1.2ms postprocess per image at shape (1, 3, 448, 640)\n",
      "\n",
      "0: 384x640 1 person, 1273.5ms\n",
      "Speed: 5.3ms preprocess, 1273.5ms inference, 2.1ms postprocess per image at shape (1, 3, 384, 640)\n",
      "\n",
      "0: 384x640 1 person, 1294.0ms\n",
      "Speed: 8.5ms preprocess, 1294.0ms inference, 1.7ms postprocess per image at shape (1, 3, 384, 640)\n",
      "\n",
      "0: 448x640 1 person, 1464.8ms\n",
      "Speed: 6.9ms preprocess, 1464.8ms inference, 2.0ms postprocess per image at shape (1, 3, 448, 640)\n",
      "\n",
      "0: 448x640 1 person, 1635.2ms\n",
      "Speed: 15.6ms preprocess, 1635.2ms inference, 2.6ms postprocess per image at shape (1, 3, 448, 640)\n",
      "\n",
      "0: 448x640 1 person, 1522.5ms\n",
      "Speed: 7.7ms preprocess, 1522.5ms inference, 1.3ms postprocess per image at shape (1, 3, 448, 640)\n",
      "\n",
      "0: 448x640 1 person, 1489.7ms\n",
      "Speed: 6.8ms preprocess, 1489.7ms inference, 1.5ms postprocess per image at shape (1, 3, 448, 640)\n",
      "\n",
      "0: 448x640 1 person, 1581.6ms\n",
      "Speed: 7.6ms preprocess, 1581.6ms inference, 2.4ms postprocess per image at shape (1, 3, 448, 640)\n",
      "\n",
      "0: 448x640 1 person, 1788.8ms\n",
      "Speed: 8.6ms preprocess, 1788.8ms inference, 1.9ms postprocess per image at shape (1, 3, 448, 640)\n",
      "\n",
      "0: 384x640 1 person, 1382.5ms\n",
      "Speed: 5.2ms preprocess, 1382.5ms inference, 1.7ms postprocess per image at shape (1, 3, 384, 640)\n",
      "\n",
      "0: 384x640 1 person, 1525.8ms\n",
      "Speed: 9.6ms preprocess, 1525.8ms inference, 2.0ms postprocess per image at shape (1, 3, 384, 640)\n",
      "\n",
      "0: 448x640 1 person, 1906.1ms\n",
      "Speed: 15.7ms preprocess, 1906.1ms inference, 7.0ms postprocess per image at shape (1, 3, 448, 640)\n",
      "Image 0: Keypoints - [[     814.66      609.36]\n",
      " [     911.09       505.2]\n",
      " [     731.85      496.37]\n",
      " [     1022.3      550.91]\n",
      " [     622.28      531.89]\n",
      " [     1244.8      981.68]\n",
      " [     394.35      960.74]\n",
      " [          0           0]\n",
      " [          0           0]\n",
      " [          0           0]\n",
      " [          0           0]\n",
      " [          0           0]\n",
      " [          0           0]\n",
      " [          0           0]\n",
      " [          0           0]\n",
      " [          0           0]\n",
      " [          0           0]]\n",
      "Image 1: Keypoints - [[     485.91      329.97]\n",
      " [     585.64      224.48]\n",
      " [     403.68      226.06]\n",
      " [     711.13      279.62]\n",
      " [     307.68      279.09]\n",
      " [     877.85      632.84]\n",
      " [     148.32       661.8]\n",
      " [          0           0]\n",
      " [          0           0]\n",
      " [          0           0]\n",
      " [          0           0]\n",
      " [          0           0]\n",
      " [          0           0]\n",
      " [          0           0]\n",
      " [          0           0]\n",
      " [          0           0]\n",
      " [          0           0]]\n",
      "Image 2: Keypoints - [[     678.58      364.08]\n",
      " [     750.01      285.94]\n",
      " [     607.26      292.01]\n",
      " [     853.17      317.13]\n",
      " [     523.48      329.93]\n",
      " [     1048.9       673.9]\n",
      " [     353.13       677.6]\n",
      " [          0           0]\n",
      " [          0           0]\n",
      " [          0           0]\n",
      " [          0           0]\n",
      " [          0           0]\n",
      " [          0           0]\n",
      " [          0           0]\n",
      " [          0           0]\n",
      " [          0           0]\n",
      " [          0           0]]\n",
      "Image 3: Keypoints - [[     817.11      594.27]\n",
      " [     910.04      490.27]\n",
      " [     733.34      485.65]\n",
      " [     1020.5      538.62]\n",
      " [     627.06       527.6]\n",
      " [     1254.5      991.58]\n",
      " [     401.91      959.23]\n",
      " [          0           0]\n",
      " [          0           0]\n",
      " [          0           0]\n",
      " [          0           0]\n",
      " [          0           0]\n",
      " [          0           0]\n",
      " [          0           0]\n",
      " [          0           0]\n",
      " [          0           0]\n",
      " [          0           0]]\n",
      "Image 4: Keypoints - [[     678.01      365.56]\n",
      " [     749.27      285.47]\n",
      " [     604.23      294.41]\n",
      " [     854.47      316.99]\n",
      " [     519.76      336.09]\n",
      " [     1050.7      661.64]\n",
      " [     366.38      672.94]\n",
      " [          0           0]\n",
      " [          0           0]\n",
      " [          0           0]\n",
      " [          0           0]\n",
      " [          0           0]\n",
      " [          0           0]\n",
      " [          0           0]\n",
      " [          0           0]\n",
      " [          0           0]\n",
      " [          0           0]]\n"
     ]
    },
    {
     "name": "stdout",
     "output_type": "stream",
     "text": [
      "\n",
      "0: 448x640 1 person, 1876.1ms\n",
      "Speed: 7.3ms preprocess, 1876.1ms inference, 2.4ms postprocess per image at shape (1, 3, 448, 640)\n",
      "\n",
      "0: 448x640 1 person, 1646.4ms\n",
      "Speed: 8.0ms preprocess, 1646.4ms inference, 1.6ms postprocess per image at shape (1, 3, 448, 640)\n",
      "\n",
      "0: 448x640 1 person, 1788.6ms\n",
      "Speed: 16.3ms preprocess, 1788.6ms inference, 1.4ms postprocess per image at shape (1, 3, 448, 640)\n",
      "\n",
      "0: 384x640 1 person, 1539.1ms\n",
      "Speed: 6.1ms preprocess, 1539.1ms inference, 3.1ms postprocess per image at shape (1, 3, 384, 640)\n",
      "\n",
      "0: 448x640 1 person, 1641.3ms\n",
      "Speed: 7.1ms preprocess, 1641.3ms inference, 1.4ms postprocess per image at shape (1, 3, 448, 640)\n",
      "\n",
      "0: 448x640 1 person, 1610.4ms\n",
      "Speed: 10.3ms preprocess, 1610.4ms inference, 2.0ms postprocess per image at shape (1, 3, 448, 640)\n",
      "\n",
      "0: 448x640 1 person, 2077.1ms\n",
      "Speed: 11.0ms preprocess, 2077.1ms inference, 2.8ms postprocess per image at shape (1, 3, 448, 640)\n",
      "\n",
      "0: 448x640 1 person, 1667.1ms\n",
      "Speed: 7.3ms preprocess, 1667.1ms inference, 2.6ms postprocess per image at shape (1, 3, 448, 640)\n",
      "\n",
      "0: 384x640 1 person, 1543.2ms\n",
      "Speed: 9.8ms preprocess, 1543.2ms inference, 2.0ms postprocess per image at shape (1, 3, 384, 640)\n",
      "\n",
      "0: 384x640 1 person, 1571.8ms\n",
      "Speed: 8.5ms preprocess, 1571.8ms inference, 2.1ms postprocess per image at shape (1, 3, 384, 640)\n",
      "\n",
      "0: 384x640 1 person, 1656.2ms\n",
      "Speed: 6.4ms preprocess, 1656.2ms inference, 1.8ms postprocess per image at shape (1, 3, 384, 640)\n",
      "\n",
      "0: 384x640 1 person, 1484.3ms\n",
      "Speed: 7.1ms preprocess, 1484.3ms inference, 2.1ms postprocess per image at shape (1, 3, 384, 640)\n",
      "\n",
      "0: 384x640 1 person, 1368.2ms\n",
      "Speed: 10.0ms preprocess, 1368.2ms inference, 2.0ms postprocess per image at shape (1, 3, 384, 640)\n",
      "\n",
      "0: 448x640 1 person, 1540.0ms\n",
      "Speed: 11.2ms preprocess, 1540.0ms inference, 1.9ms postprocess per image at shape (1, 3, 448, 640)\n",
      "\n",
      "0: 448x640 1 person, 1502.1ms\n",
      "Speed: 7.4ms preprocess, 1502.1ms inference, 2.2ms postprocess per image at shape (1, 3, 448, 640)\n",
      "\n",
      "0: 448x640 1 person, 1445.4ms\n",
      "Speed: 5.5ms preprocess, 1445.4ms inference, 2.3ms postprocess per image at shape (1, 3, 448, 640)\n",
      "\n",
      "0: 384x640 1 person, 1239.4ms\n",
      "Speed: 11.3ms preprocess, 1239.4ms inference, 1.2ms postprocess per image at shape (1, 3, 384, 640)\n",
      "\n",
      "0: 384x640 1 person, 1256.5ms\n",
      "Speed: 6.6ms preprocess, 1256.5ms inference, 1.2ms postprocess per image at shape (1, 3, 384, 640)\n",
      "\n",
      "0: 384x640 1 person, 1193.6ms\n",
      "Speed: 6.4ms preprocess, 1193.6ms inference, 1.9ms postprocess per image at shape (1, 3, 384, 640)\n",
      "\n",
      "0: 448x640 1 person, 1357.5ms\n",
      "Speed: 8.9ms preprocess, 1357.5ms inference, 1.9ms postprocess per image at shape (1, 3, 448, 640)\n",
      "Image 0: Keypoints - [[     814.66      609.36]\n",
      " [     911.09       505.2]\n",
      " [     731.85      496.37]\n",
      " [     1022.3      550.91]\n",
      " [     622.28      531.89]\n",
      " [     1244.8      981.68]\n",
      " [     394.35      960.74]\n",
      " [          0           0]\n",
      " [          0           0]\n",
      " [          0           0]\n",
      " [          0           0]\n",
      " [          0           0]\n",
      " [          0           0]\n",
      " [          0           0]\n",
      " [          0           0]\n",
      " [          0           0]\n",
      " [          0           0]]\n",
      "Image 1: Keypoints - [[     485.91      329.97]\n",
      " [     585.64      224.48]\n",
      " [     403.68      226.06]\n",
      " [     711.13      279.62]\n",
      " [     307.68      279.09]\n",
      " [     877.85      632.84]\n",
      " [     148.32       661.8]\n",
      " [          0           0]\n",
      " [          0           0]\n",
      " [          0           0]\n",
      " [          0           0]\n",
      " [          0           0]\n",
      " [          0           0]\n",
      " [          0           0]\n",
      " [          0           0]\n",
      " [          0           0]\n",
      " [          0           0]]\n",
      "Image 2: Keypoints - [[     678.58      364.08]\n",
      " [     750.01      285.94]\n",
      " [     607.26      292.01]\n",
      " [     853.17      317.13]\n",
      " [     523.48      329.93]\n",
      " [     1048.9       673.9]\n",
      " [     353.13       677.6]\n",
      " [          0           0]\n",
      " [          0           0]\n",
      " [          0           0]\n",
      " [          0           0]\n",
      " [          0           0]\n",
      " [          0           0]\n",
      " [          0           0]\n",
      " [          0           0]\n",
      " [          0           0]\n",
      " [          0           0]]\n",
      "Image 3: Keypoints - [[     817.11      594.27]\n",
      " [     910.04      490.27]\n",
      " [     733.34      485.65]\n",
      " [     1020.5      538.62]\n",
      " [     627.06       527.6]\n",
      " [     1254.5      991.58]\n",
      " [     401.91      959.23]\n",
      " [          0           0]\n",
      " [          0           0]\n",
      " [          0           0]\n",
      " [          0           0]\n",
      " [          0           0]\n",
      " [          0           0]\n",
      " [          0           0]\n",
      " [          0           0]\n",
      " [          0           0]\n",
      " [          0           0]]\n",
      "Image 4: Keypoints - [[     678.01      365.56]\n",
      " [     749.27      285.47]\n",
      " [     604.23      294.41]\n",
      " [     854.47      316.99]\n",
      " [     519.76      336.09]\n",
      " [     1050.7      661.64]\n",
      " [     366.38      672.94]\n",
      " [          0           0]\n",
      " [          0           0]\n",
      " [          0           0]\n",
      " [          0           0]\n",
      " [          0           0]\n",
      " [          0           0]\n",
      " [          0           0]\n",
      " [          0           0]\n",
      " [          0           0]\n",
      " [          0           0]]\n",
      "\n",
      "0: 448x640 1 person, 1378.1ms\n",
      "Speed: 5.7ms preprocess, 1378.1ms inference, 1.9ms postprocess per image at shape (1, 3, 448, 640)\n",
      "\n",
      "0: 384x640 1 person, 1244.6ms\n",
      "Speed: 8.4ms preprocess, 1244.6ms inference, 1.6ms postprocess per image at shape (1, 3, 384, 640)\n",
      "\n",
      "0: 384x640 1 person, 1243.9ms\n",
      "Speed: 5.5ms preprocess, 1243.9ms inference, 1.6ms postprocess per image at shape (1, 3, 384, 640)\n",
      "\n",
      "0: 384x640 1 person, 1401.6ms\n",
      "Speed: 5.7ms preprocess, 1401.6ms inference, 2.1ms postprocess per image at shape (1, 3, 384, 640)\n",
      "\n",
      "0: 448x640 1 person, 1524.6ms\n",
      "Speed: 7.7ms preprocess, 1524.6ms inference, 1.8ms postprocess per image at shape (1, 3, 448, 640)\n",
      "\n",
      "0: 384x640 1 person, 1453.1ms\n",
      "Speed: 8.0ms preprocess, 1453.1ms inference, 2.4ms postprocess per image at shape (1, 3, 384, 640)\n",
      "\n",
      "0: 384x640 1 person, 1529.6ms\n",
      "Speed: 9.3ms preprocess, 1529.6ms inference, 2.3ms postprocess per image at shape (1, 3, 384, 640)\n",
      "\n",
      "0: 448x640 1 person, 3762.6ms\n",
      "Speed: 9.7ms preprocess, 3762.6ms inference, 2.3ms postprocess per image at shape (1, 3, 448, 640)\n",
      "\n",
      "0: 448x640 1 person, 2974.5ms\n",
      "Speed: 39.1ms preprocess, 2974.5ms inference, 2.3ms postprocess per image at shape (1, 3, 448, 640)\n",
      "\n",
      "0: 448x640 1 person, 2542.4ms\n",
      "Speed: 7.8ms preprocess, 2542.4ms inference, 2.0ms postprocess per image at shape (1, 3, 448, 640)\n",
      "\n",
      "0: 384x640 1 person, 1769.6ms\n",
      "Speed: 11.9ms preprocess, 1769.6ms inference, 3.2ms postprocess per image at shape (1, 3, 384, 640)\n",
      "\n",
      "0: 448x640 1 person, 2319.7ms\n",
      "Speed: 16.6ms preprocess, 2319.7ms inference, 2.0ms postprocess per image at shape (1, 3, 448, 640)\n",
      "\n",
      "0: 448x640 1 person, 2579.0ms\n",
      "Speed: 12.7ms preprocess, 2579.0ms inference, 1.8ms postprocess per image at shape (1, 3, 448, 640)\n",
      "\n",
      "0: 384x640 1 person, 2830.6ms\n",
      "Speed: 10.8ms preprocess, 2830.6ms inference, 2.5ms postprocess per image at shape (1, 3, 384, 640)\n",
      "\n",
      "0: 384x640 1 person, 1570.8ms\n",
      "Speed: 6.5ms preprocess, 1570.8ms inference, 2.1ms postprocess per image at shape (1, 3, 384, 640)\n",
      "\n",
      "0: 448x640 1 person, 1647.3ms\n",
      "Speed: 10.6ms preprocess, 1647.3ms inference, 2.5ms postprocess per image at shape (1, 3, 448, 640)\n",
      "\n",
      "0: 384x640 1 person, 1415.9ms\n",
      "Speed: 7.7ms preprocess, 1415.9ms inference, 4.1ms postprocess per image at shape (1, 3, 384, 640)\n",
      "\n",
      "0: 384x640 1 person, 1338.4ms\n",
      "Speed: 6.7ms preprocess, 1338.4ms inference, 2.2ms postprocess per image at shape (1, 3, 384, 640)\n",
      "\n",
      "0: 448x640 1 person, 1625.1ms\n",
      "Speed: 11.8ms preprocess, 1625.1ms inference, 1.9ms postprocess per image at shape (1, 3, 448, 640)\n",
      "\n",
      "0: 448x640 1 person, 1515.2ms\n",
      "Speed: 6.9ms preprocess, 1515.2ms inference, 1.8ms postprocess per image at shape (1, 3, 448, 640)\n",
      "Image 0: Keypoints - [[     814.66      609.36]\n",
      " [     911.09       505.2]\n",
      " [     731.85      496.37]\n",
      " [     1022.3      550.91]\n",
      " [     622.28      531.89]\n",
      " [     1244.8      981.68]\n",
      " [     394.35      960.74]\n",
      " [          0           0]\n",
      " [          0           0]\n",
      " [          0           0]\n",
      " [          0           0]\n",
      " [          0           0]\n",
      " [          0           0]\n",
      " [          0           0]\n",
      " [          0           0]\n",
      " [          0           0]\n",
      " [          0           0]]\n",
      "Image 1: Keypoints - [[     485.91      329.97]\n",
      " [     585.64      224.48]\n",
      " [     403.68      226.06]\n",
      " [     711.13      279.62]\n",
      " [     307.68      279.09]\n",
      " [     877.85      632.84]\n",
      " [     148.32       661.8]\n",
      " [          0           0]\n",
      " [          0           0]\n",
      " [          0           0]\n",
      " [          0           0]\n",
      " [          0           0]\n",
      " [          0           0]\n",
      " [          0           0]\n",
      " [          0           0]\n",
      " [          0           0]\n",
      " [          0           0]]\n",
      "Image 2: Keypoints - [[     678.58      364.08]\n",
      " [     750.01      285.94]\n",
      " [     607.26      292.01]\n",
      " [     853.17      317.13]\n",
      " [     523.48      329.93]\n",
      " [     1048.9       673.9]\n",
      " [     353.13       677.6]\n",
      " [          0           0]\n",
      " [          0           0]\n",
      " [          0           0]\n",
      " [          0           0]\n",
      " [          0           0]\n",
      " [          0           0]\n",
      " [          0           0]\n",
      " [          0           0]\n",
      " [          0           0]\n",
      " [          0           0]]\n",
      "Image 3: Keypoints - [[     817.11      594.27]\n",
      " [     910.04      490.27]\n",
      " [     733.34      485.65]\n",
      " [     1020.5      538.62]\n",
      " [     627.06       527.6]\n",
      " [     1254.5      991.58]\n",
      " [     401.91      959.23]\n",
      " [          0           0]\n",
      " [          0           0]\n",
      " [          0           0]\n",
      " [          0           0]\n",
      " [          0           0]\n",
      " [          0           0]\n",
      " [          0           0]\n",
      " [          0           0]\n",
      " [          0           0]\n",
      " [          0           0]]\n",
      "Image 4: Keypoints - [[     678.01      365.56]\n",
      " [     749.27      285.47]\n",
      " [     604.23      294.41]\n",
      " [     854.47      316.99]\n",
      " [     519.76      336.09]\n",
      " [     1050.7      661.64]\n",
      " [     366.38      672.94]\n",
      " [          0           0]\n",
      " [          0           0]\n",
      " [          0           0]\n",
      " [          0           0]\n",
      " [          0           0]\n",
      " [          0           0]\n",
      " [          0           0]\n",
      " [          0           0]\n",
      " [          0           0]\n",
      " [          0           0]]\n"
     ]
    },
    {
     "name": "stdout",
     "output_type": "stream",
     "text": [
      "\n",
      "0: 448x640 1 person, 1486.2ms\n",
      "Speed: 3.3ms preprocess, 1486.2ms inference, 2.4ms postprocess per image at shape (1, 3, 448, 640)\n",
      "\n",
      "0: 448x640 1 person, 1613.7ms\n",
      "Speed: 6.8ms preprocess, 1613.7ms inference, 2.1ms postprocess per image at shape (1, 3, 448, 640)\n",
      "\n",
      "0: 384x640 1 person, 1458.6ms\n",
      "Speed: 5.3ms preprocess, 1458.6ms inference, 2.9ms postprocess per image at shape (1, 3, 384, 640)\n",
      "\n",
      "0: 384x640 1 person, 1994.7ms\n",
      "Speed: 10.3ms preprocess, 1994.7ms inference, 1.9ms postprocess per image at shape (1, 3, 384, 640)\n",
      "\n",
      "0: 384x640 1 person, 1375.5ms\n",
      "Speed: 5.7ms preprocess, 1375.5ms inference, 1.7ms postprocess per image at shape (1, 3, 384, 640)\n",
      "\n",
      "0: 448x640 1 person, 1492.3ms\n",
      "Speed: 6.8ms preprocess, 1492.3ms inference, 2.7ms postprocess per image at shape (1, 3, 448, 640)\n",
      "\n",
      "0: 384x640 1 person, 1510.6ms\n",
      "Speed: 8.5ms preprocess, 1510.6ms inference, 1.9ms postprocess per image at shape (1, 3, 384, 640)\n",
      "\n",
      "0: 448x640 1 person, 1508.5ms\n",
      "Speed: 6.8ms preprocess, 1508.5ms inference, 3.2ms postprocess per image at shape (1, 3, 448, 640)\n",
      "\n",
      "0: 448x640 1 person, 1728.2ms\n",
      "Speed: 8.7ms preprocess, 1728.2ms inference, 2.9ms postprocess per image at shape (1, 3, 448, 640)\n",
      "\n",
      "0: 448x640 1 person, 1519.8ms\n",
      "Speed: 9.3ms preprocess, 1519.8ms inference, 2.8ms postprocess per image at shape (1, 3, 448, 640)\n",
      "\n",
      "0: 448x640 1 person, 1547.8ms\n",
      "Speed: 7.6ms preprocess, 1547.8ms inference, 3.0ms postprocess per image at shape (1, 3, 448, 640)\n",
      "\n",
      "0: 448x640 1 person, 1654.8ms\n",
      "Speed: 6.9ms preprocess, 1654.8ms inference, 2.5ms postprocess per image at shape (1, 3, 448, 640)\n",
      "\n",
      "0: 384x640 1 person, 1463.0ms\n",
      "Speed: 9.0ms preprocess, 1463.0ms inference, 1.7ms postprocess per image at shape (1, 3, 384, 640)\n",
      "\n",
      "0: 384x640 1 person, 1415.3ms\n",
      "Speed: 6.1ms preprocess, 1415.3ms inference, 2.0ms postprocess per image at shape (1, 3, 384, 640)\n",
      "\n",
      "0: 384x640 1 person, 1421.4ms\n",
      "Speed: 9.2ms preprocess, 1421.4ms inference, 1.9ms postprocess per image at shape (1, 3, 384, 640)\n",
      "\n",
      "0: 448x640 1 person, 1569.9ms\n",
      "Speed: 7.7ms preprocess, 1569.9ms inference, 2.1ms postprocess per image at shape (1, 3, 448, 640)\n",
      "\n",
      "0: 448x640 1 person, 1553.6ms\n",
      "Speed: 7.2ms preprocess, 1553.6ms inference, 2.2ms postprocess per image at shape (1, 3, 448, 640)\n",
      "\n",
      "0: 448x640 1 person, 1602.9ms\n",
      "Speed: 7.6ms preprocess, 1602.9ms inference, 1.5ms postprocess per image at shape (1, 3, 448, 640)\n",
      "\n",
      "0: 384x640 1 person, 1542.6ms\n",
      "Speed: 5.2ms preprocess, 1542.6ms inference, 3.2ms postprocess per image at shape (1, 3, 384, 640)\n",
      "\n",
      "0: 448x640 1 person, 1738.5ms\n",
      "Speed: 9.0ms preprocess, 1738.5ms inference, 1.8ms postprocess per image at shape (1, 3, 448, 640)\n",
      "Image 0: Keypoints - [[     814.66      609.36]\n",
      " [     911.09       505.2]\n",
      " [     731.85      496.37]\n",
      " [     1022.3      550.91]\n",
      " [     622.28      531.89]\n",
      " [     1244.8      981.68]\n",
      " [     394.35      960.74]\n",
      " [          0           0]\n",
      " [          0           0]\n",
      " [          0           0]\n",
      " [          0           0]\n",
      " [          0           0]\n",
      " [          0           0]\n",
      " [          0           0]\n",
      " [          0           0]\n",
      " [          0           0]\n",
      " [          0           0]]\n",
      "Image 1: Keypoints - [[     485.91      329.97]\n",
      " [     585.64      224.48]\n",
      " [     403.68      226.06]\n",
      " [     711.13      279.62]\n",
      " [     307.68      279.09]\n",
      " [     877.85      632.84]\n",
      " [     148.32       661.8]\n",
      " [          0           0]\n",
      " [          0           0]\n",
      " [          0           0]\n",
      " [          0           0]\n",
      " [          0           0]\n",
      " [          0           0]\n",
      " [          0           0]\n",
      " [          0           0]\n",
      " [          0           0]\n",
      " [          0           0]]\n",
      "Image 2: Keypoints - [[     678.58      364.08]\n",
      " [     750.01      285.94]\n",
      " [     607.26      292.01]\n",
      " [     853.17      317.13]\n",
      " [     523.48      329.93]\n",
      " [     1048.9       673.9]\n",
      " [     353.13       677.6]\n",
      " [          0           0]\n",
      " [          0           0]\n",
      " [          0           0]\n",
      " [          0           0]\n",
      " [          0           0]\n",
      " [          0           0]\n",
      " [          0           0]\n",
      " [          0           0]\n",
      " [          0           0]\n",
      " [          0           0]]\n",
      "Image 3: Keypoints - [[     817.11      594.27]\n",
      " [     910.04      490.27]\n",
      " [     733.34      485.65]\n",
      " [     1020.5      538.62]\n",
      " [     627.06       527.6]\n",
      " [     1254.5      991.58]\n",
      " [     401.91      959.23]\n",
      " [          0           0]\n",
      " [          0           0]\n",
      " [          0           0]\n",
      " [          0           0]\n",
      " [          0           0]\n",
      " [          0           0]\n",
      " [          0           0]\n",
      " [          0           0]\n",
      " [          0           0]\n",
      " [          0           0]]\n",
      "Image 4: Keypoints - [[     678.01      365.56]\n",
      " [     749.27      285.47]\n",
      " [     604.23      294.41]\n",
      " [     854.47      316.99]\n",
      " [     519.76      336.09]\n",
      " [     1050.7      661.64]\n",
      " [     366.38      672.94]\n",
      " [          0           0]\n",
      " [          0           0]\n",
      " [          0           0]\n",
      " [          0           0]\n",
      " [          0           0]\n",
      " [          0           0]\n",
      " [          0           0]\n",
      " [          0           0]\n",
      " [          0           0]\n",
      " [          0           0]]\n",
      "\n",
      "0: 384x640 1 person, 1535.4ms\n",
      "Speed: 5.8ms preprocess, 1535.4ms inference, 2.0ms postprocess per image at shape (1, 3, 384, 640)\n",
      "\n",
      "0: 384x640 1 person, 1523.9ms\n",
      "Speed: 5.8ms preprocess, 1523.9ms inference, 2.3ms postprocess per image at shape (1, 3, 384, 640)\n",
      "\n"
     ]
    },
    {
     "name": "stderr",
     "output_type": "stream",
     "text": [
      "\n",
      "KeyboardInterrupt\n",
      "\n"
     ]
    }
   ],
   "source": [
    "\n",
    "# testing\n",
    "# local storage path\n",
    "data_path = \"../../AI System Data/Lean Forward/frames/\"\n",
    "# Get all files in the data_path folder\n",
    "image_files = [f for f in os.listdir(data_path) if os.path.isfile(os.path.join(data_path, f))]\n",
    "\n",
    "batch_size = 20\n",
    "counter = 0\n",
    "\n",
    "for i in range(len(image_files)//batch_size):\n",
    "    \n",
    "    images = [Image.open(os.path.join(data_path, image_file)) for image_file in image_files[counter:counter+batch_size]]\n",
    "    if i == 0:\n",
    "        results_forward = postureDetect(images)\n",
    "\n",
    "    else:\n",
    "        results_forward = np.concatenate((results_forward, postureDetect(images)), axis = 0)\n",
    "\n",
    "  # assert len(results) == len(images)\n",
    "\n",
    "  # Print keypoints results\n",
    "    for idx, keypoints in enumerate(results):\n",
    "        print(f\"Image {counter}: Keypoints - {keypoints}\")\n",
    "    counter += batch_size\n",
    "\n",
    "\n",
    "images = [Image.open(os.path.join(data_path, image_file)) for image_file in image_files[counter:]]\n",
    "results_forward = np.concatenate((results_forward, postureDetect(images)), axis = 0)\n",
    "# assert len(results) == len(images)\n",
    "\n",
    "# Print keypoints results\n",
    "for idx, keypoints in enumerate(results):\n",
    "    print(f\"Image {idx}: Keypoints - {keypoints}\")"
   ]
  },
  {
   "cell_type": "code",
   "execution_count": 39,
   "metadata": {},
   "outputs": [
    {
     "data": {
      "text/plain": [
       "(140, 17, 2)"
      ]
     },
     "execution_count": 39,
     "metadata": {},
     "output_type": "execute_result"
    }
   ],
   "source": [
    "np.array(results_forward).shape"
   ]
  },
  {
   "cell_type": "code",
   "execution_count": null,
   "metadata": {},
   "outputs": [],
   "source": [
    "\n",
    "# testing\n",
    "# local storage path\n",
    "data_path = \"../../AI System Data/Backwards/frames/\"\n",
    "# Get all files in the data_path folder\n",
    "image_files = [f for f in os.listdir(data_path) if os.path.isfile(os.path.join(data_path, f))]\n",
    "\n",
    "batch_size = 20\n",
    "counter = 0\n",
    "\n",
    "for i in range(len(image_files)//batch_size):\n",
    "    \n",
    "    images = [Image.open(os.path.join(data_path, image_file)) for image_file in image_files[counter:counter+batch_size]]\n",
    "    if i == 0:\n",
    "        results_backwards = postureDetect(images)\n",
    "\n",
    "    else:\n",
    "        results_backwards = np.concatenate((results_backwards, postureDetect(images)), axis = 0)\n",
    "\n",
    "  # assert len(results) == len(images)\n",
    "\n",
    "  # Print keypoints results\n",
    "    for idx, keypoints in enumerate(results):\n",
    "        print(f\"Image {idx}: Keypoints - {keypoints}\")\n",
    "    counter += batch_size\n",
    "\n",
    "\n",
    "images = [Image.open(os.path.join(data_path, image_file)) for image_file in image_files[counter:]]\n",
    "results_backwards = np.concatenate((results_backwards, postureDetect(images)), axis = 0)\n",
    "# assert len(results) == len(images)\n",
    "\n",
    "# Print keypoints results\n",
    "for idx, keypoints in enumerate(results):\n",
    "    print(f\"Image {idx}: Keypoints - {keypoints}\")"
   ]
  },
  {
   "cell_type": "code",
   "execution_count": 11,
   "metadata": {},
   "outputs": [
    {
     "data": {
      "text/plain": [
       "'frame_05451.jpg'"
      ]
     },
     "execution_count": 11,
     "metadata": {},
     "output_type": "execute_result"
    }
   ],
   "source": [
    "image_files[0]"
   ]
  },
  {
   "cell_type": "code",
   "execution_count": 14,
   "metadata": {},
   "outputs": [
    {
     "data": {
      "text/plain": [
       "[<PIL.JpegImagePlugin.JpegImageFile image mode=RGB size=1920x1080>]"
      ]
     },
     "execution_count": 14,
     "metadata": {},
     "output_type": "execute_result"
    }
   ],
   "source": [
    "[Image.open(os.path.join(data_path, image_files[0]))]"
   ]
  },
  {
   "cell_type": "code",
   "execution_count": null,
   "metadata": {
    "scrolled": true
   },
   "outputs": [
    {
     "name": "stderr",
     "output_type": "stream",
     "text": [
      "\r",
      "  0%|          | 0/1000 [00:00<?, ?it/s]"
     ]
    },
    {
     "name": "stdout",
     "output_type": "stream",
     "text": [
      "\n",
      "0: 384x640 1 person, 995.7ms\n",
      "Speed: 4.3ms preprocess, 995.7ms inference, 1.4ms postprocess per image at shape (1, 3, 384, 640)\n"
     ]
    },
    {
     "name": "stderr",
     "output_type": "stream",
     "text": [
      "\r",
      "  0%|          | 1/1000 [00:01<31:56,  1.92s/it]"
     ]
    },
    {
     "name": "stdout",
     "output_type": "stream",
     "text": [
      "\n",
      "0: 448x640 1 person, 1131.3ms\n",
      "Speed: 2.8ms preprocess, 1131.3ms inference, 1.0ms postprocess per image at shape (1, 3, 448, 640)\n"
     ]
    },
    {
     "name": "stderr",
     "output_type": "stream",
     "text": [
      "\r",
      "  0%|          | 2/1000 [00:03<31:21,  1.89s/it]"
     ]
    },
    {
     "name": "stdout",
     "output_type": "stream",
     "text": [
      "\n",
      "0: 448x640 1 person, 1118.6ms\n",
      "Speed: 2.8ms preprocess, 1118.6ms inference, 1.9ms postprocess per image at shape (1, 3, 448, 640)\n"
     ]
    },
    {
     "name": "stderr",
     "output_type": "stream",
     "text": [
      "\r",
      "  0%|          | 3/1000 [00:05<33:38,  2.02s/it]"
     ]
    },
    {
     "name": "stdout",
     "output_type": "stream",
     "text": [
      "\n",
      "0: 384x640 1 person, 975.7ms\n",
      "Speed: 3.5ms preprocess, 975.7ms inference, 0.9ms postprocess per image at shape (1, 3, 384, 640)\n"
     ]
    },
    {
     "name": "stderr",
     "output_type": "stream",
     "text": [
      "\r",
      "  0%|          | 4/1000 [00:07<31:38,  1.91s/it]"
     ]
    },
    {
     "name": "stdout",
     "output_type": "stream",
     "text": [
      "\n",
      "0: 448x640 1 person, 1112.7ms\n",
      "Speed: 2.7ms preprocess, 1112.7ms inference, 1.2ms postprocess per image at shape (1, 3, 448, 640)\n"
     ]
    },
    {
     "name": "stderr",
     "output_type": "stream",
     "text": [
      "\r",
      "  0%|          | 5/1000 [00:09<31:21,  1.89s/it]"
     ]
    },
    {
     "name": "stdout",
     "output_type": "stream",
     "text": [
      "\n",
      "0: 384x640 1 person, 1087.9ms\n",
      "Speed: 6.2ms preprocess, 1087.9ms inference, 1.4ms postprocess per image at shape (1, 3, 384, 640)\n"
     ]
    },
    {
     "name": "stderr",
     "output_type": "stream",
     "text": [
      "\r",
      "  1%|          | 6/1000 [00:11<32:19,  1.95s/it]"
     ]
    },
    {
     "name": "stdout",
     "output_type": "stream",
     "text": [
      "\n",
      "0: 384x640 1 person, 1030.6ms\n",
      "Speed: 3.4ms preprocess, 1030.6ms inference, 1.0ms postprocess per image at shape (1, 3, 384, 640)\n"
     ]
    },
    {
     "name": "stderr",
     "output_type": "stream",
     "text": [
      "\r",
      "  1%|          | 7/1000 [00:13<31:29,  1.90s/it]"
     ]
    },
    {
     "name": "stdout",
     "output_type": "stream",
     "text": [
      "\n",
      "0: 448x640 1 person, 1167.6ms\n",
      "Speed: 3.1ms preprocess, 1167.6ms inference, 1.0ms postprocess per image at shape (1, 3, 448, 640)\n"
     ]
    },
    {
     "name": "stderr",
     "output_type": "stream",
     "text": [
      "\r",
      "  1%|          | 8/1000 [00:15<31:30,  1.91s/it]"
     ]
    },
    {
     "name": "stdout",
     "output_type": "stream",
     "text": [
      "\n",
      "0: 448x640 1 person, 1155.7ms\n",
      "Speed: 3.6ms preprocess, 1155.7ms inference, 0.9ms postprocess per image at shape (1, 3, 448, 640)\n"
     ]
    },
    {
     "name": "stderr",
     "output_type": "stream",
     "text": [
      "\r",
      "  1%|          | 9/1000 [00:17<31:26,  1.90s/it]"
     ]
    },
    {
     "name": "stdout",
     "output_type": "stream",
     "text": [
      "\n",
      "0: 448x640 1 person, 1183.4ms\n",
      "Speed: 3.8ms preprocess, 1183.4ms inference, 1.1ms postprocess per image at shape (1, 3, 448, 640)\n"
     ]
    },
    {
     "name": "stderr",
     "output_type": "stream",
     "text": [
      "\r",
      "  1%|          | 10/1000 [00:19<31:49,  1.93s/it]"
     ]
    },
    {
     "name": "stdout",
     "output_type": "stream",
     "text": [
      "\n",
      "0: 384x640 1 person, 1033.7ms\n",
      "Speed: 4.2ms preprocess, 1033.7ms inference, 1.4ms postprocess per image at shape (1, 3, 384, 640)\n"
     ]
    },
    {
     "name": "stderr",
     "output_type": "stream",
     "text": [
      "\r",
      "  1%|          | 11/1000 [00:21<31:34,  1.92s/it]"
     ]
    },
    {
     "name": "stdout",
     "output_type": "stream",
     "text": [
      "\n",
      "0: 448x640 1 person, 1148.3ms\n",
      "Speed: 2.6ms preprocess, 1148.3ms inference, 0.9ms postprocess per image at shape (1, 3, 448, 640)\n"
     ]
    },
    {
     "name": "stderr",
     "output_type": "stream",
     "text": [
      "\r",
      "  1%|          | 12/1000 [00:23<31:42,  1.93s/it]"
     ]
    },
    {
     "name": "stdout",
     "output_type": "stream",
     "text": [
      "\n",
      "0: 384x640 1 person, 979.1ms\n",
      "Speed: 4.4ms preprocess, 979.1ms inference, 1.1ms postprocess per image at shape (1, 3, 384, 640)\n"
     ]
    },
    {
     "name": "stderr",
     "output_type": "stream",
     "text": [
      "\r",
      "  1%|▏         | 13/1000 [00:25<32:15,  1.96s/it]"
     ]
    },
    {
     "name": "stdout",
     "output_type": "stream",
     "text": [
      "\n",
      "0: 384x640 1 person, 1005.1ms\n",
      "Speed: 4.0ms preprocess, 1005.1ms inference, 1.1ms postprocess per image at shape (1, 3, 384, 640)\n"
     ]
    },
    {
     "name": "stderr",
     "output_type": "stream",
     "text": [
      "\r",
      "  1%|▏         | 14/1000 [00:26<31:14,  1.90s/it]"
     ]
    },
    {
     "name": "stdout",
     "output_type": "stream",
     "text": [
      "\n",
      "0: 448x640 1 person, 1133.6ms\n",
      "Speed: 3.1ms preprocess, 1133.6ms inference, 1.3ms postprocess per image at shape (1, 3, 448, 640)\n"
     ]
    },
    {
     "name": "stderr",
     "output_type": "stream",
     "text": [
      "\r",
      "  2%|▏         | 15/1000 [00:28<31:12,  1.90s/it]"
     ]
    },
    {
     "name": "stdout",
     "output_type": "stream",
     "text": [
      "\n",
      "0: 384x640 1 person, 1016.7ms\n",
      "Speed: 4.3ms preprocess, 1016.7ms inference, 1.1ms postprocess per image at shape (1, 3, 384, 640)\n"
     ]
    },
    {
     "name": "stderr",
     "output_type": "stream",
     "text": [
      "\r",
      "  2%|▏         | 16/1000 [00:30<30:47,  1.88s/it]"
     ]
    },
    {
     "name": "stdout",
     "output_type": "stream",
     "text": [
      "\n",
      "0: 448x640 1 person, 1171.5ms\n",
      "Speed: 6.0ms preprocess, 1171.5ms inference, 1.0ms postprocess per image at shape (1, 3, 448, 640)\n"
     ]
    },
    {
     "name": "stderr",
     "output_type": "stream",
     "text": [
      "\r",
      "  2%|▏         | 17/1000 [00:32<31:03,  1.90s/it]"
     ]
    },
    {
     "name": "stdout",
     "output_type": "stream",
     "text": [
      "\n",
      "0: 448x640 1 person, 1122.9ms\n",
      "Speed: 2.9ms preprocess, 1122.9ms inference, 1.3ms postprocess per image at shape (1, 3, 448, 640)\n"
     ]
    },
    {
     "name": "stderr",
     "output_type": "stream",
     "text": [
      "\r",
      "  2%|▏         | 18/1000 [00:34<30:59,  1.89s/it]"
     ]
    },
    {
     "name": "stdout",
     "output_type": "stream",
     "text": [
      "\n",
      "0: 384x640 1 person, 1015.0ms\n",
      "Speed: 5.2ms preprocess, 1015.0ms inference, 1.5ms postprocess per image at shape (1, 3, 384, 640)\n"
     ]
    },
    {
     "name": "stderr",
     "output_type": "stream",
     "text": [
      "\r",
      "  2%|▏         | 19/1000 [00:36<30:20,  1.86s/it]"
     ]
    },
    {
     "name": "stdout",
     "output_type": "stream",
     "text": [
      "\n",
      "0: 384x640 1 person, 996.7ms\n",
      "Speed: 4.1ms preprocess, 996.7ms inference, 0.9ms postprocess per image at shape (1, 3, 384, 640)\n"
     ]
    },
    {
     "name": "stderr",
     "output_type": "stream",
     "text": [
      "\r",
      "  2%|▏         | 20/1000 [00:38<30:09,  1.85s/it]"
     ]
    },
    {
     "name": "stdout",
     "output_type": "stream",
     "text": [
      "\n",
      "0: 448x640 1 person, 1121.0ms\n",
      "Speed: 3.4ms preprocess, 1121.0ms inference, 1.1ms postprocess per image at shape (1, 3, 448, 640)\n"
     ]
    },
    {
     "name": "stderr",
     "output_type": "stream",
     "text": [
      "\r",
      "  2%|▏         | 21/1000 [00:39<30:32,  1.87s/it]"
     ]
    },
    {
     "name": "stdout",
     "output_type": "stream",
     "text": [
      "\n",
      "0: 448x640 1 person, 1132.0ms\n",
      "Speed: 3.3ms preprocess, 1132.0ms inference, 1.3ms postprocess per image at shape (1, 3, 448, 640)\n"
     ]
    },
    {
     "name": "stderr",
     "output_type": "stream",
     "text": [
      "\r",
      "  2%|▏         | 22/1000 [00:41<30:20,  1.86s/it]"
     ]
    },
    {
     "name": "stdout",
     "output_type": "stream",
     "text": [
      "\n",
      "0: 448x640 1 person, 1107.6ms\n",
      "Speed: 3.5ms preprocess, 1107.6ms inference, 1.0ms postprocess per image at shape (1, 3, 448, 640)\n"
     ]
    },
    {
     "name": "stderr",
     "output_type": "stream",
     "text": [
      "\r",
      "  2%|▏         | 23/1000 [00:43<31:43,  1.95s/it]"
     ]
    },
    {
     "name": "stdout",
     "output_type": "stream",
     "text": [
      "\n",
      "0: 448x640 1 person, 1154.3ms\n",
      "Speed: 2.6ms preprocess, 1154.3ms inference, 1.8ms postprocess per image at shape (1, 3, 448, 640)\n"
     ]
    },
    {
     "name": "stderr",
     "output_type": "stream",
     "text": [
      "\r",
      "  2%|▏         | 24/1000 [00:45<31:42,  1.95s/it]"
     ]
    },
    {
     "name": "stdout",
     "output_type": "stream",
     "text": [
      "\n",
      "0: 384x640 1 person, 1067.4ms\n",
      "Speed: 9.4ms preprocess, 1067.4ms inference, 1.1ms postprocess per image at shape (1, 3, 384, 640)\n"
     ]
    },
    {
     "name": "stderr",
     "output_type": "stream",
     "text": [
      "\r",
      "  2%|▎         | 25/1000 [00:47<31:39,  1.95s/it]"
     ]
    },
    {
     "name": "stdout",
     "output_type": "stream",
     "text": [
      "\n",
      "0: 384x640 1 person, 995.0ms\n",
      "Speed: 3.3ms preprocess, 995.0ms inference, 1.6ms postprocess per image at shape (1, 3, 384, 640)\n"
     ]
    },
    {
     "name": "stderr",
     "output_type": "stream",
     "text": [
      "\r",
      "  3%|▎         | 26/1000 [00:49<31:08,  1.92s/it]"
     ]
    },
    {
     "name": "stdout",
     "output_type": "stream",
     "text": [
      "\n",
      "0: 384x640 1 person, 998.6ms\n",
      "Speed: 3.1ms preprocess, 998.6ms inference, 2.5ms postprocess per image at shape (1, 3, 384, 640)\n"
     ]
    },
    {
     "name": "stderr",
     "output_type": "stream",
     "text": [
      "\r",
      "  3%|▎         | 27/1000 [00:51<30:21,  1.87s/it]"
     ]
    },
    {
     "name": "stdout",
     "output_type": "stream",
     "text": [
      "\n",
      "0: 448x640 1 person, 1144.5ms\n",
      "Speed: 2.7ms preprocess, 1144.5ms inference, 1.2ms postprocess per image at shape (1, 3, 448, 640)\n"
     ]
    },
    {
     "name": "stderr",
     "output_type": "stream",
     "text": [
      "\r",
      "  3%|▎         | 28/1000 [00:53<30:29,  1.88s/it]"
     ]
    },
    {
     "name": "stdout",
     "output_type": "stream",
     "text": [
      "\n",
      "0: 448x640 1 person, 1346.8ms\n",
      "Speed: 3.7ms preprocess, 1346.8ms inference, 1.4ms postprocess per image at shape (1, 3, 448, 640)\n"
     ]
    },
    {
     "name": "stderr",
     "output_type": "stream",
     "text": [
      "\r",
      "  3%|▎         | 29/1000 [00:55<31:43,  1.96s/it]"
     ]
    },
    {
     "name": "stdout",
     "output_type": "stream",
     "text": [
      "\n",
      "0: 384x640 1 person, 951.3ms\n",
      "Speed: 6.4ms preprocess, 951.3ms inference, 1.1ms postprocess per image at shape (1, 3, 384, 640)\n"
     ]
    },
    {
     "name": "stderr",
     "output_type": "stream",
     "text": [
      "\r",
      "  3%|▎         | 30/1000 [00:57<30:37,  1.89s/it]"
     ]
    },
    {
     "name": "stdout",
     "output_type": "stream",
     "text": [
      "\n",
      "0: 448x640 1 person, 1089.6ms\n",
      "Speed: 3.2ms preprocess, 1089.6ms inference, 1.8ms postprocess per image at shape (1, 3, 448, 640)\n"
     ]
    },
    {
     "name": "stderr",
     "output_type": "stream",
     "text": [
      "\r",
      "  3%|▎         | 31/1000 [00:59<30:26,  1.89s/it]"
     ]
    },
    {
     "name": "stdout",
     "output_type": "stream",
     "text": [
      "\n",
      "0: 448x640 1 person, 1142.4ms\n",
      "Speed: 4.8ms preprocess, 1142.4ms inference, 1.0ms postprocess per image at shape (1, 3, 448, 640)\n"
     ]
    },
    {
     "name": "stderr",
     "output_type": "stream",
     "text": [
      "\r",
      "  3%|▎         | 32/1000 [01:00<30:29,  1.89s/it]"
     ]
    },
    {
     "name": "stdout",
     "output_type": "stream",
     "text": [
      "\n",
      "0: 448x640 1 person, 1123.8ms\n",
      "Speed: 5.0ms preprocess, 1123.8ms inference, 1.0ms postprocess per image at shape (1, 3, 448, 640)\n"
     ]
    },
    {
     "name": "stderr",
     "output_type": "stream",
     "text": [
      "\r",
      "  3%|▎         | 33/1000 [01:03<31:38,  1.96s/it]"
     ]
    },
    {
     "name": "stdout",
     "output_type": "stream",
     "text": [
      "\n",
      "0: 384x640 1 person, 991.5ms\n",
      "Speed: 3.1ms preprocess, 991.5ms inference, 1.1ms postprocess per image at shape (1, 3, 384, 640)\n"
     ]
    },
    {
     "name": "stderr",
     "output_type": "stream",
     "text": [
      "\r",
      "  3%|▎         | 34/1000 [01:04<30:24,  1.89s/it]"
     ]
    },
    {
     "name": "stdout",
     "output_type": "stream",
     "text": [
      "\n",
      "0: 384x640 1 person, 1055.6ms\n",
      "Speed: 3.7ms preprocess, 1055.6ms inference, 0.9ms postprocess per image at shape (1, 3, 384, 640)\n"
     ]
    },
    {
     "name": "stderr",
     "output_type": "stream",
     "text": [
      "\r",
      "  4%|▎         | 35/1000 [01:06<29:59,  1.86s/it]"
     ]
    },
    {
     "name": "stdout",
     "output_type": "stream",
     "text": [
      "\n",
      "0: 384x640 1 person, 917.5ms\n",
      "Speed: 3.5ms preprocess, 917.5ms inference, 1.1ms postprocess per image at shape (1, 3, 384, 640)\n"
     ]
    },
    {
     "name": "stderr",
     "output_type": "stream",
     "text": [
      "\r",
      "  4%|▎         | 36/1000 [01:08<29:02,  1.81s/it]"
     ]
    },
    {
     "name": "stdout",
     "output_type": "stream",
     "text": [
      "\n",
      "0: 448x640 1 person, 1066.6ms\n",
      "Speed: 2.6ms preprocess, 1066.6ms inference, 1.0ms postprocess per image at shape (1, 3, 448, 640)\n"
     ]
    },
    {
     "name": "stderr",
     "output_type": "stream",
     "text": [
      "\r",
      "  4%|▎         | 37/1000 [01:10<28:45,  1.79s/it]"
     ]
    },
    {
     "name": "stdout",
     "output_type": "stream",
     "text": [
      "\n",
      "0: 448x640 1 person, 1082.8ms\n",
      "Speed: 2.8ms preprocess, 1082.8ms inference, 1.2ms postprocess per image at shape (1, 3, 448, 640)\n"
     ]
    },
    {
     "name": "stderr",
     "output_type": "stream",
     "text": [
      "\r",
      "  4%|▍         | 38/1000 [01:11<28:40,  1.79s/it]"
     ]
    },
    {
     "name": "stdout",
     "output_type": "stream",
     "text": [
      "\n",
      "0: 384x640 1 person, 972.8ms\n",
      "Speed: 3.1ms preprocess, 972.8ms inference, 1.0ms postprocess per image at shape (1, 3, 384, 640)\n"
     ]
    },
    {
     "name": "stderr",
     "output_type": "stream",
     "text": [
      "\r",
      "  4%|▍         | 39/1000 [01:13<28:13,  1.76s/it]"
     ]
    },
    {
     "name": "stdout",
     "output_type": "stream",
     "text": [
      "\n",
      "0: 384x640 1 person, 1020.8ms\n",
      "Speed: 2.8ms preprocess, 1020.8ms inference, 1.1ms postprocess per image at shape (1, 3, 384, 640)\n"
     ]
    },
    {
     "name": "stderr",
     "output_type": "stream",
     "text": [
      "\r",
      "  4%|▍         | 40/1000 [01:15<28:38,  1.79s/it]"
     ]
    },
    {
     "name": "stdout",
     "output_type": "stream",
     "text": [
      "\n",
      "0: 384x640 1 person, 1043.4ms\n",
      "Speed: 3.9ms preprocess, 1043.4ms inference, 1.2ms postprocess per image at shape (1, 3, 384, 640)\n"
     ]
    },
    {
     "name": "stderr",
     "output_type": "stream",
     "text": [
      "\r",
      "  4%|▍         | 41/1000 [01:17<28:52,  1.81s/it]"
     ]
    },
    {
     "name": "stdout",
     "output_type": "stream",
     "text": [
      "\n",
      "0: 448x640 1 person, 1509.3ms\n",
      "Speed: 3.8ms preprocess, 1509.3ms inference, 1.6ms postprocess per image at shape (1, 3, 448, 640)\n"
     ]
    },
    {
     "name": "stderr",
     "output_type": "stream",
     "text": [
      "\r",
      "  4%|▍         | 42/1000 [01:19<31:36,  1.98s/it]"
     ]
    },
    {
     "name": "stdout",
     "output_type": "stream",
     "text": [
      "\n",
      "0: 448x640 1 person, 1315.7ms\n",
      "Speed: 3.2ms preprocess, 1315.7ms inference, 3.3ms postprocess per image at shape (1, 3, 448, 640)\n"
     ]
    },
    {
     "name": "stderr",
     "output_type": "stream",
     "text": [
      "\r",
      "  4%|▍         | 43/1000 [01:22<33:55,  2.13s/it]"
     ]
    },
    {
     "name": "stdout",
     "output_type": "stream",
     "text": [
      "\n",
      "0: 448x640 1 person, 1254.9ms\n",
      "Speed: 3.7ms preprocess, 1254.9ms inference, 1.0ms postprocess per image at shape (1, 3, 448, 640)\n"
     ]
    },
    {
     "name": "stderr",
     "output_type": "stream",
     "text": [
      "\r",
      "  4%|▍         | 44/1000 [01:24<33:37,  2.11s/it]"
     ]
    },
    {
     "name": "stdout",
     "output_type": "stream",
     "text": [
      "\n",
      "0: 384x640 1 person, 1116.7ms\n",
      "Speed: 5.6ms preprocess, 1116.7ms inference, 1.4ms postprocess per image at shape (1, 3, 384, 640)\n"
     ]
    },
    {
     "name": "stderr",
     "output_type": "stream",
     "text": [
      "\r",
      "  4%|▍         | 45/1000 [01:26<33:04,  2.08s/it]"
     ]
    },
    {
     "name": "stdout",
     "output_type": "stream",
     "text": [
      "\n",
      "0: 448x640 1 person, 1221.1ms\n",
      "Speed: 3.6ms preprocess, 1221.1ms inference, 1.2ms postprocess per image at shape (1, 3, 448, 640)\n"
     ]
    },
    {
     "name": "stderr",
     "output_type": "stream",
     "text": [
      "\r",
      "  5%|▍         | 46/1000 [01:28<32:55,  2.07s/it]"
     ]
    },
    {
     "name": "stdout",
     "output_type": "stream",
     "text": [
      "\n",
      "0: 448x640 1 person, 1192.2ms\n",
      "Speed: 3.2ms preprocess, 1192.2ms inference, 1.6ms postprocess per image at shape (1, 3, 448, 640)\n"
     ]
    },
    {
     "name": "stderr",
     "output_type": "stream",
     "text": [
      "\r",
      "  5%|▍         | 47/1000 [01:30<32:39,  2.06s/it]"
     ]
    },
    {
     "name": "stdout",
     "output_type": "stream",
     "text": [
      "\n",
      "0: 448x640 1 person, 1232.0ms\n",
      "Speed: 2.4ms preprocess, 1232.0ms inference, 1.1ms postprocess per image at shape (1, 3, 448, 640)\n"
     ]
    },
    {
     "name": "stderr",
     "output_type": "stream",
     "text": [
      "\r",
      "  5%|▍         | 48/1000 [01:32<32:17,  2.03s/it]"
     ]
    },
    {
     "name": "stdout",
     "output_type": "stream",
     "text": [
      "\n",
      "0: 448x640 1 person, 1446.1ms\n",
      "Speed: 30.2ms preprocess, 1446.1ms inference, 2.6ms postprocess per image at shape (1, 3, 448, 640)\n"
     ]
    },
    {
     "name": "stderr",
     "output_type": "stream",
     "text": [
      "\r",
      "  5%|▍         | 49/1000 [01:34<33:34,  2.12s/it]"
     ]
    },
    {
     "name": "stdout",
     "output_type": "stream",
     "text": [
      "\n",
      "0: 448x640 1 person, 1123.2ms\n",
      "Speed: 2.4ms preprocess, 1123.2ms inference, 1.4ms postprocess per image at shape (1, 3, 448, 640)\n"
     ]
    },
    {
     "name": "stderr",
     "output_type": "stream",
     "text": [
      "\r",
      "  5%|▌         | 50/1000 [01:36<33:16,  2.10s/it]"
     ]
    },
    {
     "name": "stdout",
     "output_type": "stream",
     "text": [
      "\n",
      "0: 448x640 1 person, 1110.2ms\n",
      "Speed: 2.7ms preprocess, 1110.2ms inference, 1.1ms postprocess per image at shape (1, 3, 448, 640)\n"
     ]
    },
    {
     "name": "stderr",
     "output_type": "stream",
     "text": [
      "\r",
      "  5%|▌         | 51/1000 [01:38<31:52,  2.01s/it]"
     ]
    },
    {
     "name": "stdout",
     "output_type": "stream",
     "text": [
      "\n",
      "0: 448x640 1 person, 1110.6ms\n",
      "Speed: 3.3ms preprocess, 1110.6ms inference, 1.4ms postprocess per image at shape (1, 3, 448, 640)\n"
     ]
    },
    {
     "name": "stderr",
     "output_type": "stream",
     "text": [
      "\r",
      "  5%|▌         | 52/1000 [01:40<31:04,  1.97s/it]"
     ]
    },
    {
     "name": "stdout",
     "output_type": "stream",
     "text": [
      "\n",
      "0: 384x640 1 person, 1010.8ms\n",
      "Speed: 4.6ms preprocess, 1010.8ms inference, 1.2ms postprocess per image at shape (1, 3, 384, 640)\n"
     ]
    },
    {
     "name": "stderr",
     "output_type": "stream",
     "text": [
      "\r",
      "  5%|▌         | 53/1000 [01:42<32:00,  2.03s/it]"
     ]
    },
    {
     "name": "stdout",
     "output_type": "stream",
     "text": [
      "\n",
      "0: 448x640 1 person, 1204.5ms\n",
      "Speed: 2.9ms preprocess, 1204.5ms inference, 2.4ms postprocess per image at shape (1, 3, 448, 640)\n"
     ]
    },
    {
     "name": "stderr",
     "output_type": "stream",
     "text": [
      "\r",
      "  5%|▌         | 54/1000 [01:44<32:05,  2.04s/it]"
     ]
    },
    {
     "name": "stdout",
     "output_type": "stream",
     "text": [
      "\n",
      "0: 448x640 1 person, 1211.7ms\n",
      "Speed: 8.1ms preprocess, 1211.7ms inference, 1.1ms postprocess per image at shape (1, 3, 448, 640)\n"
     ]
    },
    {
     "name": "stderr",
     "output_type": "stream",
     "text": [
      "\r",
      "  6%|▌         | 55/1000 [01:46<32:49,  2.08s/it]"
     ]
    },
    {
     "name": "stdout",
     "output_type": "stream",
     "text": [
      "\n",
      "0: 448x640 1 person, 1144.3ms\n",
      "Speed: 5.0ms preprocess, 1144.3ms inference, 0.9ms postprocess per image at shape (1, 3, 448, 640)\n"
     ]
    },
    {
     "name": "stderr",
     "output_type": "stream",
     "text": [
      "\r",
      "  6%|▌         | 56/1000 [01:48<32:38,  2.07s/it]"
     ]
    },
    {
     "name": "stdout",
     "output_type": "stream",
     "text": [
      "\n",
      "0: 448x640 1 person, 1082.3ms\n",
      "Speed: 3.2ms preprocess, 1082.3ms inference, 0.9ms postprocess per image at shape (1, 3, 448, 640)\n"
     ]
    },
    {
     "name": "stderr",
     "output_type": "stream",
     "text": [
      "\r",
      "  6%|▌         | 57/1000 [01:50<31:29,  2.00s/it]"
     ]
    },
    {
     "name": "stdout",
     "output_type": "stream",
     "text": [
      "\n",
      "0: 448x640 1 person, 1097.0ms\n",
      "Speed: 2.3ms preprocess, 1097.0ms inference, 1.5ms postprocess per image at shape (1, 3, 448, 640)\n"
     ]
    },
    {
     "name": "stderr",
     "output_type": "stream",
     "text": [
      "\r",
      "  6%|▌         | 58/1000 [01:52<30:30,  1.94s/it]"
     ]
    },
    {
     "name": "stdout",
     "output_type": "stream",
     "text": [
      "\n",
      "0: 384x640 1 person, 941.7ms\n",
      "Speed: 3.3ms preprocess, 941.7ms inference, 1.0ms postprocess per image at shape (1, 3, 384, 640)\n"
     ]
    },
    {
     "name": "stderr",
     "output_type": "stream",
     "text": [
      "\r",
      "  6%|▌         | 59/1000 [01:54<29:10,  1.86s/it]"
     ]
    },
    {
     "name": "stdout",
     "output_type": "stream",
     "text": [
      "\n",
      "0: 448x640 1 person, 1094.5ms\n",
      "Speed: 2.7ms preprocess, 1094.5ms inference, 1.4ms postprocess per image at shape (1, 3, 448, 640)\n"
     ]
    },
    {
     "name": "stderr",
     "output_type": "stream",
     "text": [
      "\r",
      "  6%|▌         | 60/1000 [01:55<28:51,  1.84s/it]"
     ]
    },
    {
     "name": "stdout",
     "output_type": "stream",
     "text": [
      "\n",
      "0: 448x640 1 person, 1096.3ms\n",
      "Speed: 2.9ms preprocess, 1096.3ms inference, 1.0ms postprocess per image at shape (1, 3, 448, 640)\n"
     ]
    },
    {
     "name": "stderr",
     "output_type": "stream",
     "text": [
      "\r",
      "  6%|▌         | 61/1000 [01:57<28:38,  1.83s/it]"
     ]
    },
    {
     "name": "stdout",
     "output_type": "stream",
     "text": [
      "\n",
      "0: 448x640 1 person, 1100.2ms\n",
      "Speed: 3.2ms preprocess, 1100.2ms inference, 1.2ms postprocess per image at shape (1, 3, 448, 640)\n"
     ]
    },
    {
     "name": "stderr",
     "output_type": "stream",
     "text": [
      "\r",
      "  6%|▌         | 62/1000 [01:59<28:42,  1.84s/it]"
     ]
    },
    {
     "name": "stdout",
     "output_type": "stream",
     "text": [
      "\n",
      "0: 384x640 1 person, 928.3ms\n",
      "Speed: 4.0ms preprocess, 928.3ms inference, 1.0ms postprocess per image at shape (1, 3, 384, 640)\n"
     ]
    },
    {
     "name": "stderr",
     "output_type": "stream",
     "text": [
      "\r",
      "  6%|▋         | 63/1000 [02:01<29:04,  1.86s/it]"
     ]
    },
    {
     "name": "stdout",
     "output_type": "stream",
     "text": [
      "\n",
      "0: 448x640 1 person, 1103.8ms\n",
      "Speed: 3.1ms preprocess, 1103.8ms inference, 1.4ms postprocess per image at shape (1, 3, 448, 640)\n"
     ]
    },
    {
     "name": "stderr",
     "output_type": "stream",
     "text": [
      "\r",
      "  6%|▋         | 64/1000 [02:03<28:48,  1.85s/it]"
     ]
    },
    {
     "name": "stdout",
     "output_type": "stream",
     "text": [
      "\n",
      "0: 384x640 1 person, 952.5ms\n",
      "Speed: 5.5ms preprocess, 952.5ms inference, 1.1ms postprocess per image at shape (1, 3, 384, 640)\n"
     ]
    },
    {
     "name": "stderr",
     "output_type": "stream",
     "text": [
      "\r",
      "  6%|▋         | 65/1000 [02:04<27:59,  1.80s/it]"
     ]
    },
    {
     "name": "stdout",
     "output_type": "stream",
     "text": [
      "\n",
      "0: 448x640 1 person, 1158.4ms\n",
      "Speed: 5.4ms preprocess, 1158.4ms inference, 1.3ms postprocess per image at shape (1, 3, 448, 640)\n"
     ]
    },
    {
     "name": "stderr",
     "output_type": "stream",
     "text": [
      "\r",
      "  7%|▋         | 66/1000 [02:06<28:48,  1.85s/it]"
     ]
    },
    {
     "name": "stdout",
     "output_type": "stream",
     "text": [
      "\n",
      "0: 384x640 1 person, 979.8ms\n",
      "Speed: 4.3ms preprocess, 979.8ms inference, 1.0ms postprocess per image at shape (1, 3, 384, 640)\n"
     ]
    },
    {
     "name": "stderr",
     "output_type": "stream",
     "text": [
      "\r",
      "  7%|▋         | 67/1000 [02:08<28:23,  1.83s/it]"
     ]
    },
    {
     "name": "stdout",
     "output_type": "stream",
     "text": [
      "\n",
      "0: 448x640 1 person, 1165.6ms\n",
      "Speed: 2.6ms preprocess, 1165.6ms inference, 1.0ms postprocess per image at shape (1, 3, 448, 640)\n"
     ]
    },
    {
     "name": "stderr",
     "output_type": "stream",
     "text": [
      "\r",
      "  7%|▋         | 68/1000 [02:10<28:44,  1.85s/it]"
     ]
    },
    {
     "name": "stdout",
     "output_type": "stream",
     "text": [
      "\n",
      "0: 448x640 1 person, 1168.5ms\n",
      "Speed: 3.9ms preprocess, 1168.5ms inference, 1.1ms postprocess per image at shape (1, 3, 448, 640)\n"
     ]
    },
    {
     "name": "stderr",
     "output_type": "stream",
     "text": [
      "\r",
      "  7%|▋         | 69/1000 [02:12<29:07,  1.88s/it]"
     ]
    },
    {
     "name": "stdout",
     "output_type": "stream",
     "text": [
      "\n",
      "0: 384x640 1 person, 967.0ms\n",
      "Speed: 3.3ms preprocess, 967.0ms inference, 1.2ms postprocess per image at shape (1, 3, 384, 640)\n"
     ]
    },
    {
     "name": "stderr",
     "output_type": "stream",
     "text": [
      "\r",
      "  7%|▋         | 70/1000 [02:14<28:26,  1.83s/it]"
     ]
    },
    {
     "name": "stdout",
     "output_type": "stream",
     "text": [
      "\n",
      "0: 384x640 1 person, 983.0ms\n",
      "Speed: 5.2ms preprocess, 983.0ms inference, 0.9ms postprocess per image at shape (1, 3, 384, 640)\n"
     ]
    },
    {
     "name": "stderr",
     "output_type": "stream",
     "text": [
      "\r",
      "  7%|▋         | 71/1000 [02:16<28:14,  1.82s/it]"
     ]
    },
    {
     "name": "stdout",
     "output_type": "stream",
     "text": [
      "\n",
      "0: 448x640 1 person, 1121.8ms\n",
      "Speed: 3.2ms preprocess, 1121.8ms inference, 1.1ms postprocess per image at shape (1, 3, 448, 640)\n"
     ]
    },
    {
     "name": "stderr",
     "output_type": "stream",
     "text": [
      "\r",
      "  7%|▋         | 72/1000 [02:17<28:40,  1.85s/it]"
     ]
    },
    {
     "name": "stdout",
     "output_type": "stream",
     "text": [
      "\n",
      "0: 448x640 1 person, 1137.4ms\n",
      "Speed: 2.3ms preprocess, 1137.4ms inference, 1.2ms postprocess per image at shape (1, 3, 448, 640)\n"
     ]
    },
    {
     "name": "stderr",
     "output_type": "stream",
     "text": [
      "\r",
      "  7%|▋         | 73/1000 [02:20<30:05,  1.95s/it]"
     ]
    },
    {
     "name": "stdout",
     "output_type": "stream",
     "text": [
      "\n",
      "0: 448x640 1 person, 1142.5ms\n",
      "Speed: 2.7ms preprocess, 1142.5ms inference, 1.4ms postprocess per image at shape (1, 3, 448, 640)\n"
     ]
    },
    {
     "name": "stderr",
     "output_type": "stream",
     "text": [
      "\r",
      "  7%|▋         | 74/1000 [02:22<30:14,  1.96s/it]"
     ]
    },
    {
     "name": "stdout",
     "output_type": "stream",
     "text": [
      "\n",
      "0: 448x640 1 person, 1120.3ms\n",
      "Speed: 3.2ms preprocess, 1120.3ms inference, 1.1ms postprocess per image at shape (1, 3, 448, 640)\n"
     ]
    },
    {
     "name": "stderr",
     "output_type": "stream",
     "text": [
      "\r",
      "  8%|▊         | 75/1000 [02:24<29:50,  1.94s/it]"
     ]
    },
    {
     "name": "stdout",
     "output_type": "stream",
     "text": [
      "\n",
      "0: 448x640 1 person, 1096.4ms\n",
      "Speed: 2.8ms preprocess, 1096.4ms inference, 1.3ms postprocess per image at shape (1, 3, 448, 640)\n"
     ]
    },
    {
     "name": "stderr",
     "output_type": "stream",
     "text": [
      "\r",
      "  8%|▊         | 76/1000 [02:25<29:21,  1.91s/it]"
     ]
    },
    {
     "name": "stdout",
     "output_type": "stream",
     "text": [
      "\n",
      "0: 448x640 1 person, 1087.3ms\n",
      "Speed: 3.9ms preprocess, 1087.3ms inference, 1.0ms postprocess per image at shape (1, 3, 448, 640)\n"
     ]
    },
    {
     "name": "stderr",
     "output_type": "stream",
     "text": [
      "\r",
      "  8%|▊         | 77/1000 [02:27<28:52,  1.88s/it]"
     ]
    },
    {
     "name": "stdout",
     "output_type": "stream",
     "text": [
      "\n",
      "0: 384x640 1 person, 936.8ms\n",
      "Speed: 4.0ms preprocess, 936.8ms inference, 1.2ms postprocess per image at shape (1, 3, 384, 640)\n"
     ]
    },
    {
     "name": "stderr",
     "output_type": "stream",
     "text": [
      "\r",
      "  8%|▊         | 78/1000 [02:29<27:46,  1.81s/it]"
     ]
    },
    {
     "name": "stdout",
     "output_type": "stream",
     "text": [
      "\n",
      "0: 384x640 1 person, 927.2ms\n",
      "Speed: 2.9ms preprocess, 927.2ms inference, 1.2ms postprocess per image at shape (1, 3, 384, 640)\n"
     ]
    },
    {
     "name": "stderr",
     "output_type": "stream",
     "text": [
      "\r",
      "  8%|▊         | 79/1000 [02:30<26:58,  1.76s/it]"
     ]
    },
    {
     "name": "stdout",
     "output_type": "stream",
     "text": [
      "\n",
      "0: 448x640 1 person, 1105.9ms\n",
      "Speed: 3.1ms preprocess, 1105.9ms inference, 1.3ms postprocess per image at shape (1, 3, 448, 640)\n"
     ]
    },
    {
     "name": "stderr",
     "output_type": "stream",
     "text": [
      "\r",
      "  8%|▊         | 80/1000 [02:32<27:10,  1.77s/it]"
     ]
    },
    {
     "name": "stdout",
     "output_type": "stream",
     "text": [
      "\n",
      "0: 448x640 1 person, 1145.8ms\n",
      "Speed: 3.5ms preprocess, 1145.8ms inference, 1.4ms postprocess per image at shape (1, 3, 448, 640)\n"
     ]
    },
    {
     "name": "stderr",
     "output_type": "stream",
     "text": [
      "\r",
      "  8%|▊         | 81/1000 [02:34<28:08,  1.84s/it]"
     ]
    },
    {
     "name": "stdout",
     "output_type": "stream",
     "text": [
      "\n",
      "0: 448x640 1 person, 1147.1ms\n",
      "Speed: 4.1ms preprocess, 1147.1ms inference, 1.1ms postprocess per image at shape (1, 3, 448, 640)\n"
     ]
    },
    {
     "name": "stderr",
     "output_type": "stream",
     "text": [
      "\r",
      "  8%|▊         | 82/1000 [02:36<28:19,  1.85s/it]"
     ]
    },
    {
     "name": "stdout",
     "output_type": "stream",
     "text": [
      "\n",
      "0: 448x640 1 person, 1100.9ms\n",
      "Speed: 3.7ms preprocess, 1100.9ms inference, 1.1ms postprocess per image at shape (1, 3, 448, 640)\n"
     ]
    },
    {
     "name": "stderr",
     "output_type": "stream",
     "text": [
      "\r",
      "  8%|▊         | 83/1000 [02:38<29:33,  1.93s/it]"
     ]
    },
    {
     "name": "stdout",
     "output_type": "stream",
     "text": [
      "\n",
      "0: 384x640 1 person, 936.1ms\n",
      "Speed: 2.9ms preprocess, 936.1ms inference, 1.0ms postprocess per image at shape (1, 3, 384, 640)\n"
     ]
    },
    {
     "name": "stderr",
     "output_type": "stream",
     "text": [
      "\r",
      "  8%|▊         | 84/1000 [02:40<28:18,  1.85s/it]"
     ]
    },
    {
     "name": "stdout",
     "output_type": "stream",
     "text": [
      "\n",
      "0: 448x640 1 person, 1122.3ms\n",
      "Speed: 2.7ms preprocess, 1122.3ms inference, 1.6ms postprocess per image at shape (1, 3, 448, 640)\n"
     ]
    },
    {
     "name": "stderr",
     "output_type": "stream",
     "text": [
      "\r",
      "  8%|▊         | 85/1000 [02:42<28:13,  1.85s/it]"
     ]
    },
    {
     "name": "stdout",
     "output_type": "stream",
     "text": [
      "\n",
      "0: 448x640 1 person, 1138.9ms\n",
      "Speed: 2.5ms preprocess, 1138.9ms inference, 0.9ms postprocess per image at shape (1, 3, 448, 640)\n"
     ]
    },
    {
     "name": "stderr",
     "output_type": "stream",
     "text": [
      "\r",
      "  9%|▊         | 86/1000 [02:44<28:29,  1.87s/it]"
     ]
    },
    {
     "name": "stdout",
     "output_type": "stream",
     "text": [
      "\n",
      "0: 448x640 1 person, 1089.1ms\n",
      "Speed: 3.3ms preprocess, 1089.1ms inference, 1.2ms postprocess per image at shape (1, 3, 448, 640)\n"
     ]
    },
    {
     "name": "stderr",
     "output_type": "stream",
     "text": [
      "\r",
      "  9%|▊         | 87/1000 [02:46<28:22,  1.86s/it]"
     ]
    },
    {
     "name": "stdout",
     "output_type": "stream",
     "text": [
      "\n",
      "0: 448x640 1 person, 1231.9ms\n",
      "Speed: 2.7ms preprocess, 1231.9ms inference, 2.2ms postprocess per image at shape (1, 3, 448, 640)\n"
     ]
    },
    {
     "name": "stderr",
     "output_type": "stream",
     "text": [
      "\r",
      "  9%|▉         | 88/1000 [02:48<28:49,  1.90s/it]"
     ]
    },
    {
     "name": "stdout",
     "output_type": "stream",
     "text": [
      "\n",
      "0: 384x640 1 person, 991.6ms\n",
      "Speed: 4.2ms preprocess, 991.6ms inference, 1.2ms postprocess per image at shape (1, 3, 384, 640)\n"
     ]
    },
    {
     "name": "stderr",
     "output_type": "stream",
     "text": [
      "\r",
      "  9%|▉         | 89/1000 [02:49<28:45,  1.89s/it]"
     ]
    },
    {
     "name": "stdout",
     "output_type": "stream",
     "text": [
      "\n",
      "0: 384x640 1 person, 957.8ms\n",
      "Speed: 3.4ms preprocess, 957.8ms inference, 1.1ms postprocess per image at shape (1, 3, 384, 640)\n"
     ]
    },
    {
     "name": "stderr",
     "output_type": "stream",
     "text": [
      "\r",
      "  9%|▉         | 90/1000 [02:51<27:51,  1.84s/it]"
     ]
    },
    {
     "name": "stdout",
     "output_type": "stream",
     "text": [
      "\n",
      "0: 384x640 1 person, 1043.6ms\n",
      "Speed: 3.8ms preprocess, 1043.6ms inference, 1.6ms postprocess per image at shape (1, 3, 384, 640)\n"
     ]
    },
    {
     "name": "stderr",
     "output_type": "stream",
     "text": [
      "\r",
      "  9%|▉         | 91/1000 [02:53<27:29,  1.82s/it]"
     ]
    },
    {
     "name": "stdout",
     "output_type": "stream",
     "text": [
      "\n",
      "0: 384x640 1 person, 970.9ms\n",
      "Speed: 3.2ms preprocess, 970.9ms inference, 1.2ms postprocess per image at shape (1, 3, 384, 640)\n"
     ]
    },
    {
     "name": "stderr",
     "output_type": "stream",
     "text": [
      "\r",
      "  9%|▉         | 92/1000 [02:55<27:01,  1.79s/it]"
     ]
    },
    {
     "name": "stdout",
     "output_type": "stream",
     "text": [
      "\n",
      "0: 384x640 1 person, 1076.6ms\n",
      "Speed: 4.8ms preprocess, 1076.6ms inference, 1.6ms postprocess per image at shape (1, 3, 384, 640)\n"
     ]
    },
    {
     "name": "stderr",
     "output_type": "stream",
     "text": [
      "\r",
      "  9%|▉         | 93/1000 [02:57<29:04,  1.92s/it]"
     ]
    },
    {
     "name": "stdout",
     "output_type": "stream",
     "text": [
      "\n",
      "0: 448x640 1 person, 1186.0ms\n",
      "Speed: 2.4ms preprocess, 1186.0ms inference, 1.9ms postprocess per image at shape (1, 3, 448, 640)\n"
     ]
    },
    {
     "name": "stderr",
     "output_type": "stream",
     "text": [
      "\r",
      "  9%|▉         | 94/1000 [02:59<29:07,  1.93s/it]"
     ]
    },
    {
     "name": "stdout",
     "output_type": "stream",
     "text": [
      "\n",
      "0: 448x640 1 person, 1274.8ms\n",
      "Speed: 4.4ms preprocess, 1274.8ms inference, 1.1ms postprocess per image at shape (1, 3, 448, 640)\n"
     ]
    },
    {
     "name": "stderr",
     "output_type": "stream",
     "text": [
      "\r",
      " 10%|▉         | 95/1000 [03:01<29:54,  1.98s/it]"
     ]
    },
    {
     "name": "stdout",
     "output_type": "stream",
     "text": [
      "\n",
      "0: 448x640 1 person, 1250.4ms\n",
      "Speed: 3.4ms preprocess, 1250.4ms inference, 2.6ms postprocess per image at shape (1, 3, 448, 640)\n"
     ]
    },
    {
     "name": "stderr",
     "output_type": "stream",
     "text": [
      "\r",
      " 10%|▉         | 96/1000 [03:03<30:02,  1.99s/it]"
     ]
    },
    {
     "name": "stdout",
     "output_type": "stream",
     "text": [
      "\n",
      "0: 384x640 1 person, 1019.0ms\n",
      "Speed: 4.5ms preprocess, 1019.0ms inference, 1.1ms postprocess per image at shape (1, 3, 384, 640)\n"
     ]
    },
    {
     "name": "stderr",
     "output_type": "stream",
     "text": [
      "\r",
      " 10%|▉         | 97/1000 [03:05<29:44,  1.98s/it]"
     ]
    },
    {
     "name": "stdout",
     "output_type": "stream",
     "text": [
      "\n",
      "0: 384x640 1 person, 985.6ms\n",
      "Speed: 5.0ms preprocess, 985.6ms inference, 0.9ms postprocess per image at shape (1, 3, 384, 640)\n"
     ]
    },
    {
     "name": "stderr",
     "output_type": "stream",
     "text": [
      "\r",
      " 10%|▉         | 98/1000 [03:07<28:50,  1.92s/it]"
     ]
    },
    {
     "name": "stdout",
     "output_type": "stream",
     "text": [
      "\n",
      "0: 384x640 1 person, 933.3ms\n",
      "Speed: 3.4ms preprocess, 933.3ms inference, 1.1ms postprocess per image at shape (1, 3, 384, 640)\n"
     ]
    },
    {
     "name": "stderr",
     "output_type": "stream",
     "text": [
      "\r",
      " 10%|▉         | 99/1000 [03:08<27:41,  1.84s/it]"
     ]
    },
    {
     "name": "stdout",
     "output_type": "stream",
     "text": [
      "\n",
      "0: 448x640 1 person, 1073.9ms\n",
      "Speed: 3.1ms preprocess, 1073.9ms inference, 1.2ms postprocess per image at shape (1, 3, 448, 640)\n"
     ]
    },
    {
     "name": "stderr",
     "output_type": "stream",
     "text": [
      "\r",
      " 10%|█         | 100/1000 [03:10<27:24,  1.83s/it]"
     ]
    },
    {
     "name": "stdout",
     "output_type": "stream",
     "text": [
      "\n",
      "0: 448x640 1 person, 1114.6ms\n",
      "Speed: 2.7ms preprocess, 1114.6ms inference, 1.5ms postprocess per image at shape (1, 3, 448, 640)\n"
     ]
    },
    {
     "name": "stderr",
     "output_type": "stream",
     "text": [
      "\r",
      " 10%|█         | 101/1000 [03:12<27:16,  1.82s/it]"
     ]
    },
    {
     "name": "stdout",
     "output_type": "stream",
     "text": [
      "\n",
      "0: 384x640 1 person, 939.2ms\n",
      "Speed: 4.0ms preprocess, 939.2ms inference, 1.1ms postprocess per image at shape (1, 3, 384, 640)\n"
     ]
    },
    {
     "name": "stderr",
     "output_type": "stream",
     "text": [
      "\r",
      " 10%|█         | 102/1000 [03:14<26:35,  1.78s/it]"
     ]
    },
    {
     "name": "stdout",
     "output_type": "stream",
     "text": [
      "\n",
      "0: 384x640 1 person, 942.5ms\n",
      "Speed: 4.5ms preprocess, 942.5ms inference, 1.8ms postprocess per image at shape (1, 3, 384, 640)\n"
     ]
    },
    {
     "name": "stderr",
     "output_type": "stream",
     "text": [
      "\r",
      " 10%|█         | 103/1000 [03:15<27:08,  1.82s/it]"
     ]
    },
    {
     "name": "stdout",
     "output_type": "stream",
     "text": [
      "\n",
      "0: 384x640 1 person, 917.5ms\n",
      "Speed: 2.7ms preprocess, 917.5ms inference, 2.0ms postprocess per image at shape (1, 3, 384, 640)\n"
     ]
    },
    {
     "name": "stderr",
     "output_type": "stream",
     "text": [
      "\r",
      " 10%|█         | 104/1000 [03:17<26:24,  1.77s/it]"
     ]
    },
    {
     "name": "stdout",
     "output_type": "stream",
     "text": [
      "\n",
      "0: 448x640 1 person, 1064.0ms\n",
      "Speed: 4.1ms preprocess, 1064.0ms inference, 0.9ms postprocess per image at shape (1, 3, 448, 640)\n"
     ]
    },
    {
     "name": "stderr",
     "output_type": "stream",
     "text": [
      "\r",
      " 10%|█         | 105/1000 [03:19<26:27,  1.77s/it]"
     ]
    },
    {
     "name": "stdout",
     "output_type": "stream",
     "text": [
      "\n",
      "0: 384x640 1 person, 907.1ms\n",
      "Speed: 3.6ms preprocess, 907.1ms inference, 1.1ms postprocess per image at shape (1, 3, 384, 640)\n"
     ]
    },
    {
     "name": "stderr",
     "output_type": "stream",
     "text": [
      "\r",
      " 11%|█         | 106/1000 [03:20<25:38,  1.72s/it]"
     ]
    },
    {
     "name": "stdout",
     "output_type": "stream",
     "text": [
      "\n",
      "0: 384x640 1 person, 899.5ms\n",
      "Speed: 3.4ms preprocess, 899.5ms inference, 1.0ms postprocess per image at shape (1, 3, 384, 640)\n"
     ]
    },
    {
     "name": "stderr",
     "output_type": "stream",
     "text": [
      "\r",
      " 11%|█         | 107/1000 [03:22<25:05,  1.69s/it]"
     ]
    },
    {
     "name": "stdout",
     "output_type": "stream",
     "text": [
      "\n",
      "0: 448x640 1 person, 1101.2ms\n",
      "Speed: 3.4ms preprocess, 1101.2ms inference, 0.9ms postprocess per image at shape (1, 3, 448, 640)\n"
     ]
    },
    {
     "name": "stderr",
     "output_type": "stream",
     "text": [
      "\r",
      " 11%|█         | 108/1000 [03:24<25:34,  1.72s/it]"
     ]
    },
    {
     "name": "stdout",
     "output_type": "stream",
     "text": [
      "\n",
      "0: 448x640 1 person, 1051.7ms\n",
      "Speed: 2.4ms preprocess, 1051.7ms inference, 1.1ms postprocess per image at shape (1, 3, 448, 640)\n"
     ]
    },
    {
     "name": "stderr",
     "output_type": "stream",
     "text": [
      "\r",
      " 11%|█         | 109/1000 [03:26<25:31,  1.72s/it]"
     ]
    },
    {
     "name": "stdout",
     "output_type": "stream",
     "text": [
      "\n",
      "0: 448x640 1 person, 1079.0ms\n",
      "Speed: 2.3ms preprocess, 1079.0ms inference, 1.0ms postprocess per image at shape (1, 3, 448, 640)\n"
     ]
    },
    {
     "name": "stderr",
     "output_type": "stream",
     "text": [
      "\r",
      " 11%|█         | 110/1000 [03:27<25:39,  1.73s/it]"
     ]
    },
    {
     "name": "stdout",
     "output_type": "stream",
     "text": [
      "\n",
      "0: 384x640 1 person, 942.2ms\n",
      "Speed: 4.2ms preprocess, 942.2ms inference, 1.2ms postprocess per image at shape (1, 3, 384, 640)\n"
     ]
    },
    {
     "name": "stderr",
     "output_type": "stream",
     "text": [
      "\r",
      " 11%|█         | 111/1000 [03:29<25:33,  1.73s/it]"
     ]
    },
    {
     "name": "stdout",
     "output_type": "stream",
     "text": [
      "\n",
      "0: 448x640 1 person, 1082.9ms\n",
      "Speed: 2.7ms preprocess, 1082.9ms inference, 1.2ms postprocess per image at shape (1, 3, 448, 640)\n"
     ]
    },
    {
     "name": "stderr",
     "output_type": "stream",
     "text": [
      "\r",
      " 11%|█         | 112/1000 [03:31<25:41,  1.74s/it]"
     ]
    },
    {
     "name": "stdout",
     "output_type": "stream",
     "text": [
      "\n",
      "0: 448x640 1 person, 1068.4ms\n",
      "Speed: 3.5ms preprocess, 1068.4ms inference, 1.2ms postprocess per image at shape (1, 3, 448, 640)\n"
     ]
    },
    {
     "name": "stderr",
     "output_type": "stream",
     "text": [
      "\r",
      " 11%|█▏        | 113/1000 [03:33<26:52,  1.82s/it]"
     ]
    },
    {
     "name": "stdout",
     "output_type": "stream",
     "text": [
      "\n",
      "0: 384x640 1 person, 951.0ms\n",
      "Speed: 3.9ms preprocess, 951.0ms inference, 0.9ms postprocess per image at shape (1, 3, 384, 640)\n"
     ]
    },
    {
     "name": "stderr",
     "output_type": "stream",
     "text": [
      "\r",
      " 11%|█▏        | 114/1000 [03:34<26:03,  1.76s/it]"
     ]
    },
    {
     "name": "stdout",
     "output_type": "stream",
     "text": [
      "\n",
      "0: 384x640 1 person, 905.5ms\n",
      "Speed: 3.2ms preprocess, 905.5ms inference, 1.3ms postprocess per image at shape (1, 3, 384, 640)\n"
     ]
    },
    {
     "name": "stderr",
     "output_type": "stream",
     "text": [
      "\r",
      " 12%|█▏        | 115/1000 [03:36<25:22,  1.72s/it]"
     ]
    },
    {
     "name": "stdout",
     "output_type": "stream",
     "text": [
      "\n",
      "0: 448x640 1 person, 1070.6ms\n",
      "Speed: 4.1ms preprocess, 1070.6ms inference, 1.1ms postprocess per image at shape (1, 3, 448, 640)\n"
     ]
    },
    {
     "name": "stderr",
     "output_type": "stream",
     "text": [
      "\r",
      " 12%|█▏        | 116/1000 [03:38<25:26,  1.73s/it]"
     ]
    },
    {
     "name": "stdout",
     "output_type": "stream",
     "text": [
      "\n",
      "0: 384x640 1 person, 902.7ms\n",
      "Speed: 3.9ms preprocess, 902.7ms inference, 1.0ms postprocess per image at shape (1, 3, 384, 640)\n"
     ]
    },
    {
     "name": "stderr",
     "output_type": "stream",
     "text": [
      "\r",
      " 12%|█▏        | 117/1000 [03:39<24:58,  1.70s/it]"
     ]
    },
    {
     "name": "stdout",
     "output_type": "stream",
     "text": [
      "\n",
      "0: 384x640 1 person, 901.9ms\n",
      "Speed: 2.9ms preprocess, 901.9ms inference, 1.2ms postprocess per image at shape (1, 3, 384, 640)\n"
     ]
    },
    {
     "name": "stderr",
     "output_type": "stream",
     "text": [
      "\r",
      " 12%|█▏        | 118/1000 [03:41<24:28,  1.66s/it]"
     ]
    },
    {
     "name": "stdout",
     "output_type": "stream",
     "text": [
      "\n",
      "0: 448x640 1 person, 1074.1ms\n",
      "Speed: 3.3ms preprocess, 1074.1ms inference, 1.1ms postprocess per image at shape (1, 3, 448, 640)\n"
     ]
    },
    {
     "name": "stderr",
     "output_type": "stream",
     "text": [
      "\r",
      " 12%|█▏        | 119/1000 [03:43<24:51,  1.69s/it]"
     ]
    },
    {
     "name": "stdout",
     "output_type": "stream",
     "text": [
      "\n",
      "0: 448x640 1 person, 1060.1ms\n",
      "Speed: 2.4ms preprocess, 1060.1ms inference, 0.9ms postprocess per image at shape (1, 3, 448, 640)\n"
     ]
    },
    {
     "name": "stderr",
     "output_type": "stream",
     "text": [
      "\r",
      " 12%|█▏        | 120/1000 [03:45<25:07,  1.71s/it]"
     ]
    },
    {
     "name": "stdout",
     "output_type": "stream",
     "text": [
      "\n",
      "0: 448x640 1 person, 1081.0ms\n",
      "Speed: 2.6ms preprocess, 1081.0ms inference, 1.3ms postprocess per image at shape (1, 3, 448, 640)\n"
     ]
    },
    {
     "name": "stderr",
     "output_type": "stream",
     "text": [
      "\r",
      " 12%|█▏        | 121/1000 [03:46<25:40,  1.75s/it]"
     ]
    },
    {
     "name": "stdout",
     "output_type": "stream",
     "text": [
      "\n",
      "0: 448x640 1 person, 1079.3ms\n",
      "Speed: 2.4ms preprocess, 1079.3ms inference, 1.2ms postprocess per image at shape (1, 3, 448, 640)\n"
     ]
    },
    {
     "name": "stderr",
     "output_type": "stream",
     "text": [
      "\r",
      " 12%|█▏        | 122/1000 [03:48<25:42,  1.76s/it]"
     ]
    },
    {
     "name": "stdout",
     "output_type": "stream",
     "text": [
      "\n",
      "0: 384x640 1 person, 920.9ms\n",
      "Speed: 3.6ms preprocess, 920.9ms inference, 0.9ms postprocess per image at shape (1, 3, 384, 640)\n"
     ]
    },
    {
     "name": "stderr",
     "output_type": "stream",
     "text": [
      "\r",
      " 12%|█▏        | 123/1000 [03:50<26:07,  1.79s/it]"
     ]
    },
    {
     "name": "stdout",
     "output_type": "stream",
     "text": [
      "\n",
      "0: 384x640 1 person, 919.8ms\n",
      "Speed: 4.1ms preprocess, 919.8ms inference, 1.0ms postprocess per image at shape (1, 3, 384, 640)\n"
     ]
    },
    {
     "name": "stderr",
     "output_type": "stream",
     "text": [
      "\r",
      " 12%|█▏        | 124/1000 [03:52<25:23,  1.74s/it]"
     ]
    },
    {
     "name": "stdout",
     "output_type": "stream",
     "text": [
      "\n",
      "0: 384x640 1 person, 928.0ms\n",
      "Speed: 2.8ms preprocess, 928.0ms inference, 1.0ms postprocess per image at shape (1, 3, 384, 640)\n"
     ]
    },
    {
     "name": "stderr",
     "output_type": "stream",
     "text": [
      "\r",
      " 12%|█▎        | 125/1000 [03:53<24:58,  1.71s/it]"
     ]
    },
    {
     "name": "stdout",
     "output_type": "stream",
     "text": [
      "\n",
      "0: 448x640 1 person, 1064.6ms\n",
      "Speed: 2.7ms preprocess, 1064.6ms inference, 1.0ms postprocess per image at shape (1, 3, 448, 640)\n"
     ]
    },
    {
     "name": "stderr",
     "output_type": "stream",
     "text": [
      "\r",
      " 13%|█▎        | 126/1000 [03:55<25:21,  1.74s/it]"
     ]
    },
    {
     "name": "stdout",
     "output_type": "stream",
     "text": [
      "\n",
      "0: 384x640 1 person, 939.0ms\n",
      "Speed: 3.9ms preprocess, 939.0ms inference, 1.6ms postprocess per image at shape (1, 3, 384, 640)\n"
     ]
    },
    {
     "name": "stderr",
     "output_type": "stream",
     "text": [
      "\r",
      " 13%|█▎        | 127/1000 [03:57<25:21,  1.74s/it]"
     ]
    },
    {
     "name": "stdout",
     "output_type": "stream",
     "text": [
      "\n",
      "0: 448x640 1 person, 1109.0ms\n",
      "Speed: 4.6ms preprocess, 1109.0ms inference, 1.0ms postprocess per image at shape (1, 3, 448, 640)\n"
     ]
    },
    {
     "name": "stderr",
     "output_type": "stream",
     "text": [
      "\r",
      " 13%|█▎        | 128/1000 [03:59<26:31,  1.83s/it]"
     ]
    },
    {
     "name": "stdout",
     "output_type": "stream",
     "text": [
      "\n",
      "0: 448x640 1 person, 1209.6ms\n",
      "Speed: 2.9ms preprocess, 1209.6ms inference, 1.1ms postprocess per image at shape (1, 3, 448, 640)\n"
     ]
    },
    {
     "name": "stderr",
     "output_type": "stream",
     "text": [
      "\r",
      " 13%|█▎        | 129/1000 [04:01<27:07,  1.87s/it]"
     ]
    },
    {
     "name": "stdout",
     "output_type": "stream",
     "text": [
      "\n",
      "0: 448x640 1 person, 1097.9ms\n",
      "Speed: 3.5ms preprocess, 1097.9ms inference, 1.7ms postprocess per image at shape (1, 3, 448, 640)\n"
     ]
    },
    {
     "name": "stderr",
     "output_type": "stream",
     "text": [
      "\r",
      " 13%|█▎        | 130/1000 [04:03<26:46,  1.85s/it]"
     ]
    },
    {
     "name": "stdout",
     "output_type": "stream",
     "text": [
      "\n",
      "0: 448x640 1 person, 1123.6ms\n",
      "Speed: 3.7ms preprocess, 1123.6ms inference, 1.8ms postprocess per image at shape (1, 3, 448, 640)\n"
     ]
    },
    {
     "name": "stderr",
     "output_type": "stream",
     "text": [
      "\r",
      " 13%|█▎        | 131/1000 [04:05<28:22,  1.96s/it]"
     ]
    },
    {
     "name": "stdout",
     "output_type": "stream",
     "text": [
      "\n",
      "0: 448x640 1 person, 1107.8ms\n",
      "Speed: 3.4ms preprocess, 1107.8ms inference, 1.1ms postprocess per image at shape (1, 3, 448, 640)\n"
     ]
    },
    {
     "name": "stderr",
     "output_type": "stream",
     "text": [
      "\r",
      " 13%|█▎        | 132/1000 [04:07<27:50,  1.92s/it]"
     ]
    },
    {
     "name": "stdout",
     "output_type": "stream",
     "text": [
      "\n",
      "0: 384x640 1 person, 922.5ms\n",
      "Speed: 5.6ms preprocess, 922.5ms inference, 1.1ms postprocess per image at shape (1, 3, 384, 640)\n"
     ]
    },
    {
     "name": "stderr",
     "output_type": "stream",
     "text": [
      "\r",
      " 13%|█▎        | 133/1000 [04:09<27:49,  1.93s/it]"
     ]
    },
    {
     "name": "stdout",
     "output_type": "stream",
     "text": [
      "\n",
      "0: 384x640 1 person, 912.5ms\n",
      "Speed: 3.1ms preprocess, 912.5ms inference, 1.1ms postprocess per image at shape (1, 3, 384, 640)\n"
     ]
    },
    {
     "name": "stderr",
     "output_type": "stream",
     "text": [
      "\r",
      " 13%|█▎        | 134/1000 [04:10<26:22,  1.83s/it]"
     ]
    },
    {
     "name": "stdout",
     "output_type": "stream",
     "text": [
      "\n",
      "0: 384x640 1 person, 908.0ms\n",
      "Speed: 3.6ms preprocess, 908.0ms inference, 1.2ms postprocess per image at shape (1, 3, 384, 640)\n"
     ]
    },
    {
     "name": "stderr",
     "output_type": "stream",
     "text": [
      "\r",
      " 14%|█▎        | 135/1000 [04:12<25:28,  1.77s/it]"
     ]
    },
    {
     "name": "stdout",
     "output_type": "stream",
     "text": [
      "\n",
      "0: 448x640 1 person, 1101.5ms\n",
      "Speed: 3.4ms preprocess, 1101.5ms inference, 1.9ms postprocess per image at shape (1, 3, 448, 640)\n"
     ]
    },
    {
     "name": "stderr",
     "output_type": "stream",
     "text": [
      "\r",
      " 14%|█▎        | 136/1000 [04:14<25:40,  1.78s/it]"
     ]
    },
    {
     "name": "stdout",
     "output_type": "stream",
     "text": [
      "\n",
      "0: 448x640 1 person, 1098.2ms\n",
      "Speed: 3.1ms preprocess, 1098.2ms inference, 1.2ms postprocess per image at shape (1, 3, 448, 640)\n"
     ]
    },
    {
     "name": "stderr",
     "output_type": "stream",
     "text": [
      "\r",
      " 14%|█▎        | 137/1000 [04:16<25:46,  1.79s/it]"
     ]
    },
    {
     "name": "stdout",
     "output_type": "stream",
     "text": [
      "\n",
      "0: 448x640 1 person, 1095.2ms\n",
      "Speed: 3.5ms preprocess, 1095.2ms inference, 1.9ms postprocess per image at shape (1, 3, 448, 640)\n"
     ]
    },
    {
     "name": "stderr",
     "output_type": "stream",
     "text": [
      "\r",
      " 14%|█▍        | 138/1000 [04:17<25:54,  1.80s/it]"
     ]
    },
    {
     "name": "stdout",
     "output_type": "stream",
     "text": [
      "\n",
      "0: 384x640 1 person, 935.3ms\n",
      "Speed: 3.2ms preprocess, 935.3ms inference, 0.9ms postprocess per image at shape (1, 3, 384, 640)\n"
     ]
    },
    {
     "name": "stderr",
     "output_type": "stream",
     "text": [
      "\r",
      " 14%|█▍        | 139/1000 [04:19<25:05,  1.75s/it]"
     ]
    },
    {
     "name": "stdout",
     "output_type": "stream",
     "text": [
      "\n",
      "0: 448x640 1 person, 1382.5ms\n",
      "Speed: 6.3ms preprocess, 1382.5ms inference, 1.3ms postprocess per image at shape (1, 3, 448, 640)\n"
     ]
    },
    {
     "name": "stderr",
     "output_type": "stream",
     "text": [
      "\r",
      " 14%|█▍        | 140/1000 [04:21<26:52,  1.87s/it]"
     ]
    },
    {
     "name": "stdout",
     "output_type": "stream",
     "text": [
      "\n",
      "0: 384x640 1 person, 994.4ms\n",
      "Speed: 3.8ms preprocess, 994.4ms inference, 1.2ms postprocess per image at shape (1, 3, 384, 640)\n"
     ]
    },
    {
     "name": "stderr",
     "output_type": "stream",
     "text": [
      "\r",
      " 14%|█▍        | 141/1000 [04:23<26:18,  1.84s/it]"
     ]
    },
    {
     "name": "stdout",
     "output_type": "stream",
     "text": [
      "\n",
      "0: 384x640 1 person, 1082.2ms\n",
      "Speed: 2.7ms preprocess, 1082.2ms inference, 1.6ms postprocess per image at shape (1, 3, 384, 640)\n"
     ]
    },
    {
     "name": "stderr",
     "output_type": "stream",
     "text": [
      "\r",
      " 14%|█▍        | 142/1000 [04:25<26:04,  1.82s/it]"
     ]
    },
    {
     "name": "stdout",
     "output_type": "stream",
     "text": [
      "\n",
      "0: 448x640 1 person, 1459.6ms\n",
      "Speed: 3.7ms preprocess, 1459.6ms inference, 1.0ms postprocess per image at shape (1, 3, 448, 640)\n"
     ]
    },
    {
     "name": "stderr",
     "output_type": "stream",
     "text": [
      "\r",
      " 14%|█▍        | 143/1000 [04:28<30:16,  2.12s/it]"
     ]
    },
    {
     "name": "stdout",
     "output_type": "stream",
     "text": [
      "\n",
      "0: 384x640 1 person, 1199.4ms\n",
      "Speed: 4.5ms preprocess, 1199.4ms inference, 1.0ms postprocess per image at shape (1, 3, 384, 640)\n"
     ]
    },
    {
     "name": "stderr",
     "output_type": "stream",
     "text": [
      "\r",
      " 14%|█▍        | 144/1000 [04:30<30:46,  2.16s/it]"
     ]
    },
    {
     "name": "stdout",
     "output_type": "stream",
     "text": [
      "\n",
      "0: 384x640 1 person, 1097.6ms\n",
      "Speed: 4.5ms preprocess, 1097.6ms inference, 1.8ms postprocess per image at shape (1, 3, 384, 640)\n"
     ]
    },
    {
     "name": "stderr",
     "output_type": "stream",
     "text": [
      "\r",
      " 14%|█▍        | 145/1000 [04:32<29:53,  2.10s/it]"
     ]
    },
    {
     "name": "stdout",
     "output_type": "stream",
     "text": [
      "\n",
      "0: 448x640 1 person, 1272.4ms\n",
      "Speed: 3.1ms preprocess, 1272.4ms inference, 1.4ms postprocess per image at shape (1, 3, 448, 640)\n"
     ]
    },
    {
     "name": "stderr",
     "output_type": "stream",
     "text": [
      "\r",
      " 15%|█▍        | 146/1000 [04:34<30:08,  2.12s/it]"
     ]
    },
    {
     "name": "stdout",
     "output_type": "stream",
     "text": [
      "\n",
      "0: 448x640 1 person, 1385.4ms\n",
      "Speed: 3.0ms preprocess, 1385.4ms inference, 1.0ms postprocess per image at shape (1, 3, 448, 640)\n"
     ]
    },
    {
     "name": "stderr",
     "output_type": "stream",
     "text": [
      "\r",
      " 15%|█▍        | 147/1000 [04:36<30:34,  2.15s/it]"
     ]
    },
    {
     "name": "stdout",
     "output_type": "stream",
     "text": [
      "\n",
      "0: 448x640 1 person, 1093.7ms\n",
      "Speed: 2.7ms preprocess, 1093.7ms inference, 1.0ms postprocess per image at shape (1, 3, 448, 640)\n"
     ]
    },
    {
     "name": "stderr",
     "output_type": "stream",
     "text": [
      "\r",
      " 15%|█▍        | 148/1000 [04:38<29:44,  2.09s/it]"
     ]
    },
    {
     "name": "stdout",
     "output_type": "stream",
     "text": [
      "\n",
      "0: 384x640 1 person, 953.1ms\n",
      "Speed: 4.3ms preprocess, 953.1ms inference, 1.1ms postprocess per image at shape (1, 3, 384, 640)\n"
     ]
    },
    {
     "name": "stderr",
     "output_type": "stream",
     "text": [
      "\r",
      " 15%|█▍        | 149/1000 [04:40<27:44,  1.96s/it]"
     ]
    },
    {
     "name": "stdout",
     "output_type": "stream",
     "text": [
      "\n",
      "0: 384x640 1 person, 918.6ms\n",
      "Speed: 3.8ms preprocess, 918.6ms inference, 1.1ms postprocess per image at shape (1, 3, 384, 640)\n"
     ]
    },
    {
     "name": "stderr",
     "output_type": "stream",
     "text": [
      "\r",
      " 15%|█▌        | 150/1000 [04:41<26:33,  1.88s/it]"
     ]
    },
    {
     "name": "stdout",
     "output_type": "stream",
     "text": [
      "\n",
      "0: 384x640 1 person, 987.5ms\n",
      "Speed: 3.3ms preprocess, 987.5ms inference, 2.4ms postprocess per image at shape (1, 3, 384, 640)\n"
     ]
    },
    {
     "name": "stderr",
     "output_type": "stream",
     "text": [
      "\r",
      " 15%|█▌        | 151/1000 [04:43<25:57,  1.83s/it]"
     ]
    },
    {
     "name": "stdout",
     "output_type": "stream",
     "text": [
      "\n",
      "0: 448x640 1 person, 1137.2ms\n",
      "Speed: 4.2ms preprocess, 1137.2ms inference, 1.1ms postprocess per image at shape (1, 3, 448, 640)\n"
     ]
    },
    {
     "name": "stderr",
     "output_type": "stream",
     "text": [
      "\r",
      " 15%|█▌        | 152/1000 [04:45<26:12,  1.85s/it]"
     ]
    },
    {
     "name": "stdout",
     "output_type": "stream",
     "text": [
      "\n",
      "0: 384x640 1 person, 901.1ms\n",
      "Speed: 4.2ms preprocess, 901.1ms inference, 1.1ms postprocess per image at shape (1, 3, 384, 640)\n"
     ]
    },
    {
     "name": "stderr",
     "output_type": "stream",
     "text": [
      "\r",
      " 15%|█▌        | 153/1000 [04:47<26:13,  1.86s/it]"
     ]
    },
    {
     "name": "stdout",
     "output_type": "stream",
     "text": [
      "\n",
      "0: 448x640 1 person, 1078.9ms\n",
      "Speed: 2.5ms preprocess, 1078.9ms inference, 1.1ms postprocess per image at shape (1, 3, 448, 640)\n"
     ]
    },
    {
     "name": "stderr",
     "output_type": "stream",
     "text": [
      "\r",
      " 15%|█▌        | 154/1000 [04:49<25:48,  1.83s/it]"
     ]
    },
    {
     "name": "stdout",
     "output_type": "stream",
     "text": [
      "\n",
      "0: 384x640 1 person, 1149.6ms\n",
      "Speed: 3.8ms preprocess, 1149.6ms inference, 1.0ms postprocess per image at shape (1, 3, 384, 640)\n"
     ]
    },
    {
     "name": "stderr",
     "output_type": "stream",
     "text": [
      "\r",
      " 16%|█▌        | 155/1000 [04:51<26:05,  1.85s/it]"
     ]
    },
    {
     "name": "stdout",
     "output_type": "stream",
     "text": [
      "\n",
      "0: 384x640 1 person, 1064.4ms\n",
      "Speed: 4.2ms preprocess, 1064.4ms inference, 1.3ms postprocess per image at shape (1, 3, 384, 640)\n"
     ]
    },
    {
     "name": "stderr",
     "output_type": "stream",
     "text": [
      "\r",
      " 16%|█▌        | 156/1000 [04:52<26:12,  1.86s/it]"
     ]
    },
    {
     "name": "stdout",
     "output_type": "stream",
     "text": [
      "\n",
      "0: 448x640 1 person, 1062.9ms\n",
      "Speed: 2.8ms preprocess, 1062.9ms inference, 1.0ms postprocess per image at shape (1, 3, 448, 640)\n"
     ]
    },
    {
     "name": "stderr",
     "output_type": "stream",
     "text": [
      "\r",
      " 16%|█▌        | 157/1000 [04:54<26:01,  1.85s/it]"
     ]
    },
    {
     "name": "stdout",
     "output_type": "stream",
     "text": [
      "\n",
      "0: 384x640 1 person, 926.9ms\n",
      "Speed: 3.7ms preprocess, 926.9ms inference, 1.1ms postprocess per image at shape (1, 3, 384, 640)\n"
     ]
    },
    {
     "name": "stderr",
     "output_type": "stream",
     "text": [
      "\r",
      " 16%|█▌        | 158/1000 [04:56<25:12,  1.80s/it]"
     ]
    },
    {
     "name": "stdout",
     "output_type": "stream",
     "text": [
      "\n",
      "0: 448x640 1 person, 1086.0ms\n",
      "Speed: 3.5ms preprocess, 1086.0ms inference, 1.4ms postprocess per image at shape (1, 3, 448, 640)\n"
     ]
    },
    {
     "name": "stderr",
     "output_type": "stream",
     "text": [
      "\r",
      " 16%|█▌        | 159/1000 [04:58<25:21,  1.81s/it]"
     ]
    },
    {
     "name": "stdout",
     "output_type": "stream",
     "text": [
      "\n",
      "0: 448x640 1 person, 1066.3ms\n",
      "Speed: 2.4ms preprocess, 1066.3ms inference, 0.9ms postprocess per image at shape (1, 3, 448, 640)\n"
     ]
    },
    {
     "name": "stderr",
     "output_type": "stream",
     "text": [
      "\r",
      " 16%|█▌        | 160/1000 [05:00<25:11,  1.80s/it]"
     ]
    },
    {
     "name": "stdout",
     "output_type": "stream",
     "text": [
      "\n",
      "0: 448x640 1 person, 1069.3ms\n",
      "Speed: 2.6ms preprocess, 1069.3ms inference, 0.9ms postprocess per image at shape (1, 3, 448, 640)\n"
     ]
    },
    {
     "name": "stderr",
     "output_type": "stream",
     "text": [
      "\r",
      " 16%|█▌        | 161/1000 [05:01<24:57,  1.79s/it]"
     ]
    },
    {
     "name": "stdout",
     "output_type": "stream",
     "text": [
      "\n",
      "0: 384x640 1 person, 929.0ms\n",
      "Speed: 2.9ms preprocess, 929.0ms inference, 0.9ms postprocess per image at shape (1, 3, 384, 640)\n"
     ]
    },
    {
     "name": "stderr",
     "output_type": "stream",
     "text": [
      "\r",
      " 16%|█▌        | 162/1000 [05:03<24:12,  1.73s/it]"
     ]
    },
    {
     "name": "stdout",
     "output_type": "stream",
     "text": [
      "\n",
      "0: 384x640 1 person, 917.3ms\n",
      "Speed: 4.6ms preprocess, 917.3ms inference, 1.0ms postprocess per image at shape (1, 3, 384, 640)\n"
     ]
    },
    {
     "name": "stderr",
     "output_type": "stream",
     "text": [
      "\r",
      " 16%|█▋        | 163/1000 [05:05<24:50,  1.78s/it]"
     ]
    },
    {
     "name": "stdout",
     "output_type": "stream",
     "text": [
      "\n",
      "0: 448x640 1 person, 1062.1ms\n",
      "Speed: 3.3ms preprocess, 1062.1ms inference, 1.5ms postprocess per image at shape (1, 3, 448, 640)\n"
     ]
    },
    {
     "name": "stderr",
     "output_type": "stream",
     "text": [
      "\r",
      " 16%|█▋        | 164/1000 [05:07<24:51,  1.78s/it]"
     ]
    },
    {
     "name": "stdout",
     "output_type": "stream",
     "text": [
      "\n",
      "0: 384x640 1 person, 1017.9ms\n",
      "Speed: 6.6ms preprocess, 1017.9ms inference, 1.2ms postprocess per image at shape (1, 3, 384, 640)\n"
     ]
    },
    {
     "name": "stderr",
     "output_type": "stream",
     "text": [
      "\r",
      " 16%|█▋        | 165/1000 [05:08<25:01,  1.80s/it]"
     ]
    },
    {
     "name": "stdout",
     "output_type": "stream",
     "text": [
      "\n",
      "0: 448x640 1 person, 1345.4ms\n",
      "Speed: 4.0ms preprocess, 1345.4ms inference, 1.1ms postprocess per image at shape (1, 3, 448, 640)\n"
     ]
    },
    {
     "name": "stderr",
     "output_type": "stream",
     "text": [
      "\r",
      " 17%|█▋        | 166/1000 [05:11<26:09,  1.88s/it]"
     ]
    },
    {
     "name": "stdout",
     "output_type": "stream",
     "text": [
      "\n",
      "0: 384x640 1 person, 940.7ms\n",
      "Speed: 4.1ms preprocess, 940.7ms inference, 1.2ms postprocess per image at shape (1, 3, 384, 640)\n"
     ]
    },
    {
     "name": "stderr",
     "output_type": "stream",
     "text": [
      "\r",
      " 17%|█▋        | 167/1000 [05:12<25:22,  1.83s/it]"
     ]
    },
    {
     "name": "stdout",
     "output_type": "stream",
     "text": [
      "\n"
     ]
    }
   ],
   "source": [
    "\n",
    "# testing\n",
    "# local storage path\n",
    "data_path = \"../../AI System Data/Lean Forward/frames/\"\n",
    "# Get all files in the data_path folder\n",
    "image_files = [f for f in os.listdir(data_path) if os.path.isfile(os.path.join(data_path, f))]\n",
    "\n",
    "batch_size = 20\n",
    "counter = 0\n",
    "\n",
    "for i in tqdm(np.arange(1000)):\n",
    "    \n",
    "    images = [Image.open(os.path.join(data_path, image_files[i]))]\n",
    "    if i == 0:\n",
    "        results_forward = postureDetect(images)\n",
    "\n",
    "    else:\n",
    "        results_forward = np.concatenate((results_forward, postureDetect(images)), axis = 0)\n",
    "\n",
    "  # assert len(results) == len(images)\n",
    "\n",
    "  # Print keypoints results\n",
    "for idx, keypoints in enumerate(results_forward):\n",
    "    print(f\"Image {idx}: Keypoints - {keypoints}\")\n",
    "counter += batch_size\n",
    "\n",
    "\n",
    "# images = [Image.open(os.path.join(data_path, image_file)) for image_file in image_files[counter:]]\n",
    "# results_forward = np.concatenate((results_forward, postureDetect(images)), axis = 0)\n",
    "# assert len(results) == len(images)\n",
    "\n",
    "# Print keypoints results\n",
    "# for idx, keypoints in enumerate(results):\n",
    "#     print(f\"Image {counter+idx}: Keypoints - {keypoints}\")"
   ]
  },
  {
   "cell_type": "code",
   "execution_count": null,
   "metadata": {},
   "outputs": [],
   "source": [
    "\n",
    "# testing\n",
    "# local storage path\n",
    "data_path = \"../../AI System Data/Lean Forward/frames/\"\n",
    "# Get all files in the data_path folder\n",
    "image_files = [f for f in os.listdir(data_path) if os.path.isfile(os.path.join(data_path, f))]\n",
    "\n",
    "batch_size = 20\n",
    "counter = 0\n",
    "\n",
    "for i in range(len(image_files)//batch_size):\n",
    "  images = [Image.open(os.path.join(data_path, image_file)) for image_file in image_files[counter:counter+batch_size]]\n",
    "\n",
    "  results = postureDetect(images)\n",
    "\n",
    "  # assert len(results) == len(images)\n",
    "\n",
    "  # Print keypoints results\n",
    "  for idx, keypoints in enumerate(results):\n",
    "      print(f\"Image {idx}: Keypoints - {keypoints}\")\n",
    "  counter += batch_size\n",
    "\n",
    "\n",
    "images = [Image.open(os.path.join(data_path, image_file)) for image_file in image_files[1500:1505]]\n",
    "results = postureDetect(images)\n",
    "# assert len(results) == len(images)\n",
    "\n",
    "# Print keypoints results\n",
    "for idx, keypoints in enumerate(results):\n",
    "    print(f\"Image {idx}: Keypoints - {keypoints}\")"
   ]
  },
  {
   "cell_type": "code",
   "execution_count": 29,
   "metadata": {},
   "outputs": [],
   "source": [
    "results = np.array(results)"
   ]
  },
  {
   "cell_type": "code",
   "execution_count": 31,
   "metadata": {},
   "outputs": [
    {
     "data": {
      "text/plain": [
       "<matplotlib.collections.PathCollection at 0x7fb8965923d0>"
      ]
     },
     "execution_count": 31,
     "metadata": {},
     "output_type": "execute_result"
    },
    {
     "data": {
      "image/png": "[encoded data removed]",
      "text/plain": [
       "<Figure size 432x288 with 1 Axes>"
      ]
     },
     "metadata": {
      "needs_background": "light"
     },
     "output_type": "display_data"
    }
   ],
   "source": [
    "plt.imshow(images[0])\n",
    "plt.scatter(results[0,:,0], results[0, :, 1])"
   ]
  },
  {
   "cell_type": "code",
   "execution_count": 32,
   "metadata": {},
   "outputs": [
    {
     "data": {
      "text/plain": [
       "<matplotlib.collections.PathCollection at 0x7fb895d55490>"
      ]
     },
     "execution_count": 32,
     "metadata": {},
     "output_type": "execute_result"
    },
    {
     "data": {
      "image/png": "[encoded data removed]",
      "text/plain": [
       "<Figure size 432x288 with 1 Axes>"
      ]
     },
     "metadata": {
      "needs_background": "light"
     },
     "output_type": "display_data"
    }
   ],
   "source": [
    "plt.imshow(images[1])\n",
    "plt.scatter(results[1,:,0], results[1, :, 1])"
   ]
  },
  {
   "cell_type": "code",
   "execution_count": 20,
   "metadata": {},
   "outputs": [
    {
     "data": {
      "text/plain": [
       "<matplotlib.collections.PathCollection at 0x7fb87b0e2670>"
      ]
     },
     "execution_count": 20,
     "metadata": {},
     "output_type": "execute_result"
    },
    {
     "data": {
      "image/png": "[encoded data removed]",
      "text/plain": [
       "<Figure size 432x288 with 1 Axes>"
      ]
     },
     "metadata": {
      "needs_background": "light"
     },
     "output_type": "display_data"
    }
   ],
   "source": [
    "plt.imshow(images[0])\n",
    "plt.scatter(results[0,:,0], results[0, :, 1])"
   ]
  },
  {
   "cell_type": "code",
   "execution_count": 21,
   "metadata": {},
   "outputs": [
    {
     "data": {
      "text/plain": [
       "<matplotlib.collections.PathCollection at 0x7fb87beedac0>"
      ]
     },
     "execution_count": 21,
     "metadata": {},
     "output_type": "execute_result"
    },
    {
     "data": {
      "image/png": "[encoded data removed]",
      "text/plain": [
       "<Figure size 432x288 with 1 Axes>"
      ]
     },
     "metadata": {
      "needs_background": "light"
     },
     "output_type": "display_data"
    }
   ],
   "source": [
    "plt.imshow(images[1])\n",
    "plt.scatter(results[1,:,0], results[1, :, 1])"
   ]
  },
  {
   "cell_type": "code",
   "execution_count": 35,
   "metadata": {},
   "outputs": [
    {
     "data": {
      "text/plain": [
       "(5, 17, 2)"
      ]
     },
     "execution_count": 35,
     "metadata": {},
     "output_type": "execute_result"
    }
   ],
   "source": [
    "results.shape"
   ]
  },
  {
   "cell_type": "code",
   "execution_count": null,
   "metadata": {},
   "outputs": [],
   "source": []
  }
 ],
 "metadata": {
  "kernelspec": {
   "display_name": "Python 3",
   "language": "python",
   "name": "python3"
  },
  "language_info": {
   "codemirror_mode": {
    "name": "ipython",
    "version": 3
   },
   "file_extension": ".py",
   "mimetype": "text/x-python",
   "name": "python",
   "nbconvert_exporter": "python",
   "pygments_lexer": "ipython3",
   "version": "3.8.5"
  }
 },
 "nbformat": 4,
 "nbformat_minor": 4
}
